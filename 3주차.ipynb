{
  "nbformat": 4,
  "nbformat_minor": 0,
  "metadata": {
    "colab": {
      "provenance": [],
      "include_colab_link": true
    },
    "kernelspec": {
      "name": "python3",
      "display_name": "Python 3"
    }
  },
  "cells": [
    {
      "cell_type": "markdown",
      "metadata": {
        "id": "view-in-github",
        "colab_type": "text"
      },
      "source": [
        "<a href=\"https://colab.research.google.com/github/hayoi2da/20251772/blob/main/3%EC%A3%BC%EC%B0%A8.ipynb\" target=\"_parent\"><img src=\"https://colab.research.google.com/assets/colab-badge.svg\" alt=\"Open In Colab\"/></a>"
      ]
    },
    {
      "cell_type": "markdown",
      "source": [
        "수강생분의 이름과 학번을 입력해주세요."
      ],
      "metadata": {
        "id": "IBp3gqDl877Y"
      }
    },
    {
      "cell_type": "code",
      "source": [
        "print(\"정하영\", \"20251772\")"
      ],
      "metadata": {
        "colab": {
          "base_uri": "https://localhost:8080/"
        },
        "id": "8WBfzNcX85gW",
        "outputId": "80f61b7e-9e8d-4e1b-9779-465ab9533798"
      },
      "execution_count": null,
      "outputs": [
        {
          "output_type": "stream",
          "name": "stdout",
          "text": [
            "정하영 20251772\n"
          ]
        }
      ]
    },
    {
      "cell_type": "markdown",
      "metadata": {
        "id": "iohoQnjuxBvA"
      },
      "source": [
        "# 실습 과제"
      ]
    },
    {
      "cell_type": "markdown",
      "source": [
        "실습 문제 1. 두 정수 a와 b에 대해 모든 비트 연산(AND, OR, XOR, NOT, 왼쪽 시프트, 오른쪽 시프트)의 결과를 출력하는 프로그램을 작성하세요."
      ],
      "metadata": {
        "id": "rhMUXzHgM1KO"
      }
    },
    {
      "cell_type": "code",
      "source": [
        "a = int(input(\"첫 번째 정수: \"))\n",
        "b = int(input(\"두 번째 정수: \"))\n",
        "\n",
        "# 코드 작성 부분\n",
        "\n",
        "print(a & b)\n",
        "print(a | b)\n",
        "print(a ^ b)\n",
        "print(~ a)\n",
        "print(~ b)\n",
        "print(a << b)\n",
        "print(a >> b)"
      ],
      "metadata": {
        "id": "-vT4w_yHM4AQ",
        "colab": {
          "base_uri": "https://localhost:8080/"
        },
        "outputId": "7812343d-281a-4a41-ee40-a3495809a77a"
      },
      "execution_count": null,
      "outputs": [
        {
          "output_type": "stream",
          "name": "stdout",
          "text": [
            "첫 번째 정수: 3\n",
            "두 번째 정수: 1\n",
            "1\n",
            "3\n",
            "2\n",
            "-4\n",
            "-2\n",
            "6\n",
            "1\n"
          ]
        }
      ]
    },
    {
      "cell_type": "markdown",
      "source": [
        "실습 문제 2. 1부터 10까지의 합을 구하는 프로그램을 복합 대입 연산자(+=)를 사용하여 작성하세요.\n"
      ],
      "metadata": {
        "id": "g9k7aOeaNBUL"
      }
    },
    {
      "cell_type": "code",
      "source": [
        "from re import I\n",
        "# 코드 작성 부분\n",
        "\n",
        "a = 0\n",
        "\n",
        "for i in range(11) :\n",
        "    a += i\n",
        "print(a)"
      ],
      "metadata": {
        "id": "fc3NOprbNH-0",
        "colab": {
          "base_uri": "https://localhost:8080/"
        },
        "outputId": "b05514cb-f4ad-44e1-f70a-e05ba91969d1"
      },
      "execution_count": null,
      "outputs": [
        {
          "output_type": "stream",
          "name": "stdout",
          "text": [
            "55\n"
          ]
        }
      ]
    },
    {
      "cell_type": "markdown",
      "source": [
        "실습 문제 3. 괄호를 사용하여 연산 순서를 변경한 아래의 수식들의 결과를 출력하는 프로그램을 작성하세요.\n",
        "- 4 + 5 * 2 ** 3 / 4\n",
        "- 4 + 5 * (2 ** 3) / 4\n",
        "- 4 + 5 * 2 ** (3 / 4)\n",
        "- 4 + (5 * 2 ** 3) / 4\n",
        "- 4 + (5 * 2) ** 3 / 4"
      ],
      "metadata": {
        "id": "Bwa_j53-NT6m"
      }
    },
    {
      "cell_type": "code",
      "source": [
        "# 원래 수식\n",
        "original = 4 + 5 * 2 ** 3 / 4\n",
        "print(f\"4 + 5 * 2 ** 3 / 4 = {original}\")\n",
        "\n",
        "# 코드 작성 부분: 괄호를 사용하여 연산 순서 변경\n",
        "\n",
        "print(f\"4 + 5 * 2 ** 3 / 4 = {original}\")\n",
        "print(f\"4 + 5 * (2 ** 3) / 4 = {original}\")\n",
        "print(f\"4 + 5 * 2 ** (3 / 4) = {original}\")\n",
        "print(f\"4 + (5 * 2 ** 3) / 4 = {original}\")\n",
        "print(f\"4 + (5 * 2) ** 3 / 4 = {original}\")"
      ],
      "metadata": {
        "colab": {
          "base_uri": "https://localhost:8080/"
        },
        "id": "NGL3omQlNVbc",
        "outputId": "9a2bf53e-5daf-4c06-d058-03a90fe614c3"
      },
      "execution_count": null,
      "outputs": [
        {
          "output_type": "stream",
          "name": "stdout",
          "text": [
            "4 + 5 * 2 ** 3 / 4 = 14.0\n",
            "4 + 5 * 2 ** 3 / 4 = 14.0\n",
            "4 + 5 * (2 ** 3) / 4 = 14.0\n",
            "4 + 5 * 2 ** (3 / 4) = 14.0\n",
            "4 + (5 * 2 ** 3) / 4 = 14.0\n",
            "4 + (5 * 2) ** 3 / 4 = 14.0\n"
          ]
        }
      ]
    }
  ]
}