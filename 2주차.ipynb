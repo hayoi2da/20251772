{
  "nbformat": 4,
  "nbformat_minor": 0,
  "metadata": {
    "colab": {
      "provenance": [],
      "include_colab_link": true
    },
    "kernelspec": {
      "name": "python3",
      "display_name": "Python 3"
    }
  },
  "cells": [
    {
      "cell_type": "markdown",
      "metadata": {
        "id": "view-in-github",
        "colab_type": "text"
      },
      "source": [
        "<a href=\"https://colab.research.google.com/github/hayoi2da/20251772/blob/main/2%EC%A3%BC%EC%B0%A8.ipynb\" target=\"_parent\"><img src=\"https://colab.research.google.com/assets/colab-badge.svg\" alt=\"Open In Colab\"/></a>"
      ]
    },
    {
      "cell_type": "code",
      "metadata": {
        "id": "2EJdFnL88CXW",
        "colab": {
          "base_uri": "https://localhost:8080/"
        },
        "outputId": "f9886337-e363-4d61-a69f-89db78dad4a9"
      },
      "source": [
        "# 문제 1. Hello, World! 출력하세요.\n",
        "\n",
        "# 정답 1.\n",
        "print(\"Hello, World!\")"
      ],
      "execution_count": null,
      "outputs": [
        {
          "output_type": "stream",
          "name": "stdout",
          "text": [
            "Hello, World!\n"
          ]
        }
      ]
    },
    {
      "cell_type": "code",
      "metadata": {
        "id": "WT7oec_X-QHD",
        "colab": {
          "base_uri": "https://localhost:8080/"
        },
        "outputId": "7f7cc826-2383-42e9-9df4-4e4611028c6a"
      },
      "source": [
        "# 문제 2. samsung 이라는 변수로 50000원을 설정하시오. samsung 주식 10주를 보유하고 있을 때, 총 평가금액을 출력하세요.\n",
        "\n",
        "# 정답 2.\n",
        "samsung = 50000\n",
        "print(samsung * 10)"
      ],
      "execution_count": null,
      "outputs": [
        {
          "output_type": "stream",
          "name": "stdout",
          "text": [
            "500000\n"
          ]
        }
      ]
    },
    {
      "cell_type": "code",
      "metadata": {
        "id": "cHJvktiS-SiV",
        "colab": {
          "base_uri": "https://localhost:8080/"
        },
        "outputId": "ed1cb299-edb6-4d11-fc6d-d0a89a751df2"
      },
      "source": [
        "# 문제 3. 아래 변수에 바인딩된 갑의 타입을 판별해보세요.\n",
        "a = \"132\"\n",
        "\n",
        "# 정답 3.\n",
        "print(type(a))"
      ],
      "execution_count": null,
      "outputs": [
        {
          "output_type": "stream",
          "name": "stdout",
          "text": [
            "<class 'str'>\n"
          ]
        }
      ]
    },
    {
      "cell_type": "code",
      "metadata": {
        "id": "Pw3DADcDAPUv",
        "colab": {
          "base_uri": "https://localhost:8080/"
        },
        "outputId": "c73f7572-bfa1-42fa-ddf6-976c5341e814"
      },
      "source": [
        "# 문제 4. 문자열 \"720\"을 정수형으로 변환한 변수와 타입을 출력하세요.\n",
        "num_str = \"720\"\n",
        "\n",
        "# 정답 4.\n",
        "num_int = int(num_str)\n",
        "print(num_int, type(num_int))"
      ],
      "execution_count": null,
      "outputs": [
        {
          "output_type": "stream",
          "name": "stdout",
          "text": [
            "720 <class 'int'>\n"
          ]
        }
      ]
    },
    {
      "cell_type": "code",
      "metadata": {
        "id": "KSMWrAUVAeOV",
        "colab": {
          "base_uri": "https://localhost:8080/"
        },
        "outputId": "f8b85da5-e3ba-40ec-c2e6-834c9afb4443"
      },
      "source": [
        "# 문제 5. 실수형 3.141592 를 문자열로 변환한 변수와 타입을 출력하세요.\n",
        "pi = 3.141592\n",
        "\n",
        "# 정답 5.\n",
        "pi_str = str(pi)\n",
        "print(pi_str, type(pi_str))"
      ],
      "execution_count": null,
      "outputs": [
        {
          "output_type": "stream",
          "name": "stdout",
          "text": [
            "3.141592 <class 'str'>\n"
          ]
        }
      ]
    },
    {
      "cell_type": "code",
      "metadata": {
        "id": "MzOmjmvKArEJ",
        "colab": {
          "base_uri": "https://localhost:8080/"
        },
        "outputId": "317e5818-66d5-4041-ce22-1cdfcc78bbed"
      },
      "source": [
        "# 문제 6. 문자열 \"3.141592\" 를 실수형으로 변환한 변수와 타입을 출력하세요.\n",
        "pi = \"3.141592\"\n",
        "\n",
        "# 정답 6.\n",
        "pi_float = float(pi)\n",
        "print(pi_float, type(pi_float))"
      ],
      "execution_count": null,
      "outputs": [
        {
          "output_type": "stream",
          "name": "stdout",
          "text": [
            "3.141592 <class 'float'>\n"
          ]
        }
      ]
    },
    {
      "cell_type": "code",
      "metadata": {
        "id": "D5rdsTo3BLF-",
        "colab": {
          "base_uri": "https://localhost:8080/"
        },
        "outputId": "384e1446-ea59-437c-98d6-ef4175c41a96"
      },
      "source": [
        "# 문제 7. 에어컨이 월 48,584원에 무이자 36개월의 조건으로 홈쇼핑에서 판매 중입니다. 총 구입 금액을 계산한 후 이를 출력하세요.\n",
        "\n",
        "# 정답 7.\n",
        "air_conditioner = 48584\n",
        "print(air_conditioner * 36)"
      ],
      "execution_count": null,
      "outputs": [
        {
          "output_type": "stream",
          "name": "stdout",
          "text": [
            "1749024\n"
          ]
        }
      ]
    },
    {
      "cell_type": "code",
      "metadata": {
        "id": "nDHur7aBBd4c",
        "colab": {
          "base_uri": "https://localhost:8080/"
        },
        "outputId": "0aad4bb4-fb36-4e25-8b22-c3027924dff7"
      },
      "source": [
        "# 문제 8. 두 정수 A와 B를 입력받은 다음, A+B 결과값을 출력하는 프로그램을 작성하시오.\n",
        "# 입력 시, A에 30, B에 10 입력하세요.\n",
        "# 문제 링크: https://www.acmicpc.net/problem/1000\n",
        "\n",
        "# 정답 8.\n",
        "values = input()\n",
        "values = values.split()\n",
        "a = int(values[0])\n",
        "b = int(values[1])\n",
        "# 코드 작성: A+B 결과값 출력하는 코드\n",
        "print(a + b)"
      ],
      "execution_count": null,
      "outputs": [
        {
          "output_type": "stream",
          "name": "stdout",
          "text": [
            "30 10\n",
            "40\n"
          ]
        }
      ]
    },
    {
      "cell_type": "code",
      "metadata": {
        "id": "LhO5wV8-CGkl",
        "colab": {
          "base_uri": "https://localhost:8080/"
        },
        "outputId": "bfd682f0-81d3-4a88-b499-cc779970eabb"
      },
      "source": [
        "# 문제 9. 두 정수 A와 B를 입력받은 다음, A/B 결과값을 출력하는 프로그램을 작성하시오.\n",
        "# 입력 시, A에 30, B에 10 입력하세요.\n",
        "# 문제 링크: https://www.acmicpc.net/problem/1008\n",
        "\n",
        "# 정답 9.\n",
        "values = input()\n",
        "values = values.split()\n",
        "a = int(values[0])\n",
        "b = int(values[1])\n",
        "# 코드 작성: A/B 결과값 출력하는 코드\n",
        "print(a / b)"
      ],
      "execution_count": null,
      "outputs": [
        {
          "output_type": "stream",
          "name": "stdout",
          "text": [
            "30 10\n",
            "3.0\n"
          ]
        }
      ]
    },
    {
      "cell_type": "code",
      "metadata": {
        "id": "1341GUDfE3yc",
        "colab": {
          "base_uri": "https://localhost:8080/"
        },
        "outputId": "b9575115-860f-4ce6-8858-4bbc04d5db9a"
      },
      "source": [
        "# 문제 10. 두 정수 A와 B를 입력받은 다음, A+B, A-B, A*B, A/B(몫), A%B(나머지) 정수형 결과값을 출력하는 프로그램을 작성하시오.\n",
        "# 입력 시, A에 32, B에 3 입력하세요.\n",
        "# 문제 링크: https://www.acmicpc.net/problem/10869\n",
        "\n",
        "# 정답 10.\n",
        "values = input()\n",
        "values = values.split()\n",
        "a = int(values[0])\n",
        "b = int(values[1])\n",
        "# 코드 작성: A+B 결과값 출력\n",
        "# 코드 작성: A-B 결과값 출력\n",
        "# 코드 작성: A*B 결과값 출력\n",
        "# 코드 작성: A/B 결과값 출력\n",
        "# 코드 작성: A%B 결과값 출력\n",
        "print(a + b)\n",
        "print(a - b)\n",
        "print(a * b)\n",
        "print(a / b)\n",
        "print(a % b)"
      ],
      "execution_count": null,
      "outputs": [
        {
          "output_type": "stream",
          "name": "stdout",
          "text": [
            "32 3\n",
            "35\n",
            "29\n",
            "96\n",
            "10.666666666666666\n",
            "2\n"
          ]
        }
      ]
    },
    {
      "cell_type": "code",
      "metadata": {
        "id": "980er8RZJzJ1",
        "colab": {
          "base_uri": "https://localhost:8080/"
        },
        "outputId": "2747baab-35bf-468c-ed8b-6ab40ee9bd24"
      },
      "source": [
        "# 문제 11. A, B, C 입력받은 다음, 4가지 나머지값을 출력한다.\n",
        "# (A+B)%C, ((A%C) + (B%C))%C, (A×B)%C, ((A%C) × (B%C))%C를 출력한다.\n",
        "# 입력 시, 10 20 30 을 입력하세요.\n",
        "# 문제 링크: https://www.acmicpc.net/problem/10430\n",
        "\n",
        "# 정답 11.\n",
        "values = input()\n",
        "values = values.split()\n",
        "a = int(values[0])\n",
        "b = int(values[1])\n",
        "c = int(values[2])\n",
        "\n",
        "#코드 작성: 첫째 줄에 (A+B)%C\n",
        "#코드 작성: 둘째 줄에 ((A%C) + (B%C))%C\n",
        "#코드 작성: 셋째 줄에 (A×B)%C\n",
        "#코드 작성: 넷째 줄에 ((A%C) × (B%C))%C 출력\n",
        "print((a + b) % c)\n",
        "print((a % c) + (b % c) % c)\n",
        "print((a * b) % c)\n",
        "print((a % c) * (b % c) % c)"
      ],
      "execution_count": null,
      "outputs": [
        {
          "output_type": "stream",
          "name": "stdout",
          "text": [
            "10 20 30\n",
            "0\n",
            "30\n",
            "20\n",
            "20\n"
          ]
        }
      ]
    },
    {
      "cell_type": "code",
      "metadata": {
        "id": "x_eVL3ZivZxF",
        "colab": {
          "base_uri": "https://localhost:8080/"
        },
        "outputId": "ab5ed065-5362-4a07-d735-ba6e6d34ede0"
      },
      "source": [
        "# 문제 12. 제곱승 연산자를 이용하여 3의 5승 결과를 출력하시오.\n",
        "\n",
        "# 정답 12.\n",
        "print(3 ** 5)"
      ],
      "execution_count": null,
      "outputs": [
        {
          "output_type": "stream",
          "name": "stdout",
          "text": [
            "243\n"
          ]
        }
      ]
    },
    {
      "cell_type": "code",
      "metadata": {
        "id": "NeFUClHeyr96",
        "colab": {
          "base_uri": "https://localhost:8080/"
        },
        "outputId": "1b099722-dfca-4361-c5bc-6661e6de1f5d"
      },
      "source": [
        "# 문제 13. 아래 코드의 오류 메시지를 확인하고, 정상적으로 동작하도록 수정하시오.\n",
        "# 기대하는 출력값은 152.6 입니다.\n",
        "# a = '76.3'\n",
        "# b = float(a)\n",
        "# print(a + b)\n",
        "\n",
        "# 정답 13.\n",
        "a = 76.3\n",
        "b = float(a)\n",
        "print(a + b)"
      ],
      "execution_count": null,
      "outputs": [
        {
          "output_type": "stream",
          "name": "stdout",
          "text": [
            "152.6\n"
          ]
        }
      ]
    },
    {
      "cell_type": "code",
      "metadata": {
        "id": "uLBVEJ5kzDzU",
        "colab": {
          "base_uri": "https://localhost:8080/"
        },
        "outputId": "c9e707b7-c646-45b0-a8e0-9d6fcc31b597"
      },
      "source": [
        "# 문제 13. 아래 코드의 오류 메시지를 확인하고, 정상적으로 동작하도록 수정하시오.\n",
        "# 기대하는 출력값은 \"76.376.3\" 입니다.\n",
        "# a = '76.3'\n",
        "# b = float(a)\n",
        "# print(a + b)\n",
        "\n",
        "# 정답 13.\n",
        "a = '76.3'\n",
        "b = str(a)\n",
        "print('\"' + a + b + '\"')"
      ],
      "execution_count": null,
      "outputs": [
        {
          "output_type": "stream",
          "name": "stdout",
          "text": [
            "\"76.376.3\"\n"
          ]
        }
      ]
    },
    {
      "cell_type": "code",
      "metadata": {
        "id": "RvdCy5LCzWBI"
      },
      "source": [
        "# 문제 14. 아래의 코드를 모두 주석처리하시오.\n",
        "# 한번에 주석처리하는 단축키는 Ctrl + / 입니다.\n",
        "# a = '76.3'\n",
        "# b = float(a)\n",
        "# print(a + b)"
      ],
      "execution_count": null,
      "outputs": []
    },
    {
      "cell_type": "code",
      "metadata": {
        "id": "vd3v855fzm6_",
        "colab": {
          "base_uri": "https://localhost:8080/"
        },
        "outputId": "3e901fe6-fe23-492d-9162-ad564cd942f9"
      },
      "source": [
        "# 문제 15. 아래의 두 문자열을 하나의 문자열 변수로 합친 후 출력하시오.\n",
        "s = \"Hello, Python!!\\n\"\n",
        "t = \"Hello, OOP\\n\"\n",
        "\n",
        "# 정답 15.\n",
        "print(s + t)"
      ],
      "execution_count": null,
      "outputs": [
        {
          "output_type": "stream",
          "name": "stdout",
          "text": [
            "Hello, Python!!\n",
            "Hello, OOP\n",
            "\n"
          ]
        }
      ]
    },
    {
      "cell_type": "code",
      "metadata": {
        "id": "hOeHMK180SXC",
        "colab": {
          "base_uri": "https://localhost:8080/"
        },
        "outputId": "5eb77dd2-89d9-44e9-f65c-b83e7767cb57"
      },
      "source": [
        "# 문제 16. 아래의 문자열을 5번 반복하는 문자열을 생성하시오.\n",
        "s = \"Hello, Python!!\\n\"\n",
        "\n",
        "# 정답 16.\n",
        "print(s * 5)"
      ],
      "execution_count": null,
      "outputs": [
        {
          "output_type": "stream",
          "name": "stdout",
          "text": [
            "Hello, Python!!\n",
            "Hello, Python!!\n",
            "Hello, Python!!\n",
            "Hello, Python!!\n",
            "Hello, Python!!\n",
            "\n"
          ]
        }
      ]
    },
    {
      "cell_type": "code",
      "metadata": {
        "id": "Vs3v7Cz00tcX"
      },
      "source": [
        "# 문제 17. 최초로 이익이 발생하는 판매량(> 손익분기점)을 출력한다. 이익이 발생하지 않으면 -1을 출력한다.\n",
        "# A는 고정비용, B는 가변 비용, C는 제품 가격이다.\n",
        "# 입력 시 1000 70 170 입력하세요.\n",
        "# 문제 링크: https://www.acmicpc.net/problem/1712\n",
        "# 손익분기점 계산식: a + b * x = c * x\n",
        "\n",
        "# 정답 17.\n",
        "values = input()\n",
        "values = values.split()\n",
        "a = int(values[0])\n",
        "b = int(values[1])\n",
        "c = int(values[2])\n",
        "# A는 고정비용, B는 가변 비용, C는 제품 가격이다.\n",
        "# 손익분기점 계산식: a + b * x = c * x\n",
        "\n",
        "# 코드 작성: 이익이 발생하지 않는 경우 -1 출력\n",
        "# 코드 작성: 최초로 이익이 발생하는 정수형 판매량(> 손익분기점) 출력\n"
      ],
      "execution_count": null,
      "outputs": []
    }
  ]
}