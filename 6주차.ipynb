{
  "nbformat": 4,
  "nbformat_minor": 0,
  "metadata": {
    "colab": {
      "provenance": [],
      "authorship_tag": "ABX9TyNu0D8PC8hFRJp4vGYnLaL6",
      "include_colab_link": true
    },
    "kernelspec": {
      "name": "python3",
      "display_name": "Python 3"
    },
    "language_info": {
      "name": "python"
    }
  },
  "cells": [
    {
      "cell_type": "markdown",
      "metadata": {
        "id": "view-in-github",
        "colab_type": "text"
      },
      "source": [
        "<a href=\"https://colab.research.google.com/github/hayoi2da/20251772/blob/main/6%EC%A3%BC%EC%B0%A8.ipynb\" target=\"_parent\"><img src=\"https://colab.research.google.com/assets/colab-badge.svg\" alt=\"Open In Colab\"/></a>"
      ]
    },
    {
      "cell_type": "markdown",
      "source": [
        "실습 문제 1. 리스트 초기화 및 역순 저장\n",
        "\n",
        "0부터 시작하여 5씩 증가하는 숫자 10개를 가지는 리스트 list_a를 생성하세요. 그 다음, list_a의 요소들을 역순으로 가지는 새로운 리스트 list_b를 생성하고, list_b의 첫 번째와 마지막 요소를 출력하는 코드를 작성하세요.\n",
        "출력값 예시는 아래와 같습니다.\n",
        "list_a: [0, 5, 10, 15, 20, 25, 30, 35, 40, 45]\n",
        "list_b: [45, 40, 35, 30, 25, 20, 15, 10, 5, 0]\n",
        "list_b의 첫 번째 요소: 45, 마지막 요소: 0"
      ],
      "metadata": {
        "id": "nm6grxcPmE0t"
      }
    },
    {
      "cell_type": "code",
      "execution_count": 1,
      "metadata": {
        "colab": {
          "base_uri": "https://localhost:8080/"
        },
        "id": "a4HpE91Cl95P",
        "outputId": "c302f206-3da9-4ff2-d30c-628fb0076e10"
      },
      "outputs": [
        {
          "output_type": "stream",
          "name": "stdout",
          "text": [
            "list_a: [0, 5, 10, 15, 20, 25, 30, 35, 40, 45]\n",
            "list_b: [45, 40, 35, 30, 25, 20, 15, 10, 5, 0]\n",
            "list_b의 첫 번째 요소: 45, 마지막 요소: 0\n"
          ]
        }
      ],
      "source": [
        "list_a = [] # 빈 리스트 생성\n",
        "list_b = []\n",
        "value = 0 # 0, 5, 10 ~ (5의 배수로 증가시킬 값)\n",
        "num_elements = 10\n",
        "\n",
        "# 코드 작성 부분: list_a\n",
        "\n",
        "for i in range(0,10): # 0~9 - 10번 반복(10개의 숫자를 가지는 리스트이기 때문)\n",
        "    list_a.append(value) # 리스트 에 value를 추가한 후\n",
        "    value += 5 #5씩 증가시킴\n",
        "ㅡ\n",
        "# 코드 작성 부분: list_b\n",
        "\n",
        "for i in range(0, 10): # 0~9 - 10번 반복\n",
        "    list_b.append(list_a[9 - i]) # i가 0일 때 45-i는 45가 됨. i가 2일 때는 40, i가 3일 때는 35 ~\n",
        "\n",
        "# 결과 출력\n",
        "print(f\"list_a: {list_a}\")\n",
        "print(f\"list_b: {list_b}\")\n",
        "print(f\"list_b의 첫 번째 요소: {list_b[0]}, 마지막 요소: {list_b[num_elements-1]}\")"
      ]
    },
    {
      "cell_type": "markdown",
      "source": [
        "실습 문제 2. 리스트 슬라이싱 활용\n",
        "\n",
        "주어진 리스트 my_list에서 슬라이싱을 사용하여 다음 요구사항을 만족하는 코드를 작성하세요.\n",
        "1) 인덱스 2부터 4까지의 요소를 추출하여 출력하세요 ([30, 40, 50]).\n",
        "2) 리스트의 마지막 3개 요소를 음수 인덱스를 사용하여 추출하고 출력하세요 ([60, 70, 80]).\n",
        "3) 리스트의 모든 요소를 역순으로 출력하세요 ([80, 70, 60, 50, 40, 30, 20, 10]).\n",
        "4) 리스트에서 짝수 인덱스에 해당하는 요소만 추출하여 출력하세요 ([10, 30, 50, 70])."
      ],
      "metadata": {
        "id": "YauzruhjmO25"
      }
    },
    {
      "cell_type": "code",
      "source": [
        "my_list = [10, 20, 30, 40, 50, 60, 70, 80]\n",
        "print(f\"원본 리스트: {my_list}\")\n",
        "\n",
        "# 1. 코드 작성 부분: 인덱스 2부터 4까지 추출\n",
        "\n",
        "sub_list1 = my_list[2:4]\n",
        "print(f\"1. 인덱스 2-4: {sub_list1}\")\n",
        "\n",
        "# 2. 코드 작성 부분: 마지막 3개 요소 추출 (음수 인덱스)\n",
        "\n",
        "sub_list2 = my_list[-3:]\n",
        "print(f\"2. 마지막 3개: {sub_list2}\")\n",
        "\n",
        "# 3. 코드 작성 부분: 리스트 역순 출력\n",
        "\n",
        "reversed_list = my_list[::-1]\n",
        "print(f\"3. 역순: {reversed_list}\")\n",
        "\n",
        "# 4. 코드 작성 부분: 짝수 인덱스 요소 추출\n",
        "\n",
        "even_index_list = my_list[::2]\n",
        "print(f\"4. 짝수 인덱스: {even_index_list}\")"
      ],
      "metadata": {
        "colab": {
          "base_uri": "https://localhost:8080/"
        },
        "id": "w-Wt6g9nmNZp",
        "outputId": "bcd0e001-89d8-4fec-9c7e-ece1a8ad917a"
      },
      "execution_count": 2,
      "outputs": [
        {
          "output_type": "stream",
          "name": "stdout",
          "text": [
            "원본 리스트: [10, 20, 30, 40, 50, 60, 70, 80]\n",
            "1. 인덱스 2-4: [30, 40]\n",
            "2. 마지막 3개: [60, 70, 80]\n",
            "3. 역순: [80, 70, 60, 50, 40, 30, 20, 10]\n",
            "4. 짝수 인덱스: [10, 30, 50, 70]\n"
          ]
        }
      ]
    },
    {
      "cell_type": "markdown",
      "source": [
        "실습 문제 3. 리스트 내 딕셔너리 데이터 집계\n",
        "\n",
        "각각의 판매 기록(상품명 'product'와 판매 수량 'quantity')을 담고 있는 딕셔너리들의 리스트 sales_log가 있습니다. 각 상품별 총 판매 수량을 계산하여 상품명을 키로, 총 수량을 값으로 하는 딕셔너리 total_sales를 생성하고 출력하세요.\n",
        "출력 예시는 아래와 같습니다.\n",
        "판매 기록 로그: [{'product': 'apple', 'quantity': 5}, {'product': 'banana', 'quantity': 10}, {'product': 'apple', 'quantity': 3}, {'product': 'orange', 'quantity': 8}, {'product': 'banana', 'quantity': 7}, {'product': 'apple', 'quantity': 2}]\n",
        "상품별 총 판매량: {'apple': 10, 'banana': 17, 'orange': 8}"
      ],
      "metadata": {
        "id": "uUDYDhrImQIa"
      }
    },
    {
      "cell_type": "code",
      "source": [
        "sales_log = [\n",
        "    {'product': 'apple', 'quantity': 5},\n",
        "    {'product': 'banana', 'quantity': 10},\n",
        "    {'product': 'apple', 'quantity': 3},\n",
        "    {'product': 'orange', 'quantity': 8},\n",
        "    {'product': 'banana', 'quantity': 7},\n",
        "    {'product': 'apple', 'quantity': 2},\n",
        "]\n",
        "\n",
        "total_sales = {} # 상품별 총 판매량을 저장할 딕셔너리\n",
        "\n",
        "# 코드 작성 부분\n",
        "\n",
        "for sale in sales_log: # 판매 기록 확인\n",
        "    product = sale['product'] # 상품명\n",
        "    quantity = sale['quantity'] # 수량\n",
        "\n",
        "    if product in total_sales: # 상품이 딕셔너리에 저장돼 있으면 수량 더하기\n",
        "        total_sales[product] += quantity\n",
        "    else: # 안 돼 있으면 새로 추가\n",
        "        total_sales[product] = quantity\n",
        "\n",
        "# 출력 부분: 수정 불가\n",
        "print(f\"판매 기록 로그:\\n{sales_log}\")\n",
        "print(f\"\\n상품별 총 판매량:\\n{total_sales}\")"
      ],
      "metadata": {
        "colab": {
          "base_uri": "https://localhost:8080/"
        },
        "id": "HtI1MHbimOEi",
        "outputId": "147a0441-6032-4c2d-9233-797cfb910054"
      },
      "execution_count": 3,
      "outputs": [
        {
          "output_type": "stream",
          "name": "stdout",
          "text": [
            "판매 기록 로그:\n",
            "[{'product': 'apple', 'quantity': 5}, {'product': 'banana', 'quantity': 10}, {'product': 'apple', 'quantity': 3}, {'product': 'orange', 'quantity': 8}, {'product': 'banana', 'quantity': 7}, {'product': 'apple', 'quantity': 2}]\n",
            "\n",
            "상품별 총 판매량:\n",
            "{'apple': 10, 'banana': 17, 'orange': 8}\n"
          ]
        }
      ]
    }
  ]
}