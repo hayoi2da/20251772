{
  "nbformat": 4,
  "nbformat_minor": 0,
  "metadata": {
    "colab": {
      "provenance": [],
      "include_colab_link": true
    },
    "kernelspec": {
      "name": "python3",
      "display_name": "Python 3"
    }
  },
  "cells": [
    {
      "cell_type": "markdown",
      "metadata": {
        "id": "view-in-github",
        "colab_type": "text"
      },
      "source": [
        "<a href=\"https://colab.research.google.com/github/hayoi2da/20251772/blob/main/7%EC%A3%BC%EC%B0%A8.ipynb\" target=\"_parent\"><img src=\"https://colab.research.google.com/assets/colab-badge.svg\" alt=\"Open In Colab\"/></a>"
      ]
    },
    {
      "cell_type": "markdown",
      "metadata": {
        "id": "iohoQnjuxBvA"
      },
      "source": [
        "# 실습 과제"
      ]
    },
    {
      "cell_type": "markdown",
      "source": [
        "실습 문제 1. 문자열 내 알파벳만 추출하기\n",
        "- 문자열에서 알파벳(a-z, A-Z)만 추출하여 새로운 문자열로 만들어 출력하세요.\n",
        "- 출력값 예시는 아래와 같습니다.\n",
        " - HelloHowareyoutodayFinethanks"
      ],
      "metadata": {
        "id": "rhMUXzHgM1KO"
      }
    },
    {
      "cell_type": "code",
      "source": [
        "text_with_symbols = \"Hello! How are you today? (Fine, thanks!)\"\n",
        "alpha_only = \"\"\n",
        "\n",
        "# 코드 작성 부분\n",
        "for i in range(0,len(text_with_symbols)):\n",
        "    if text_with_symbols[i] != ' ' and text_with_symbols[i] != '!' and text_with_symbols[i] != '?' and text_with_symbols[i] != '(' and text_with_symbols[i] != ')'and text_with_symbols[i] != ',':\n",
        "        alpha_only += text_with_symbols[i]\n",
        "\n",
        "print(alpha_only) # 'HelloHowareyoutodayFinethanks'"
      ],
      "metadata": {
        "id": "-vT4w_yHM4AQ",
        "colab": {
          "base_uri": "https://localhost:8080/"
        },
        "outputId": "a6adf9d7-f56c-484d-e5fa-525dfc24a4cd"
      },
      "execution_count": null,
      "outputs": [
        {
          "output_type": "stream",
          "name": "stdout",
          "text": [
            "HelloHowareyoutodayFinethanks\n"
          ]
        }
      ]
    },
    {
      "cell_type": "markdown",
      "source": [
        "실습 문제 2. 문자열 내 특정 문자 제거하기 (replace 활용)\n",
        "- 문자열에서 '-' 문자를 모두 찾아 제거(빈 문자열로 치환)하세요.\n",
        "- 출력값 예시는 아래와 같습니다.\n",
        " - 010 1234 5678"
      ],
      "metadata": {
        "id": "g9k7aOeaNBUL"
      }
    },
    {
      "cell_type": "code",
      "source": [
        "phone_number = \"010-1234-5678\"\n",
        "# 코드 작성 부분\n",
        "\n",
        "cleaned_number = phone_number.replace('-', ' ')\n",
        "\n",
        "\n",
        "print(cleaned_number)"
      ],
      "metadata": {
        "id": "fc3NOprbNH-0",
        "colab": {
          "base_uri": "https://localhost:8080/"
        },
        "outputId": "0dbd83ce-67ed-4d2b-bd9d-a766dfc820f6"
      },
      "execution_count": null,
      "outputs": [
        {
          "output_type": "stream",
          "name": "stdout",
          "text": [
            "010 1234 5678\n"
          ]
        }
      ]
    },
    {
      "cell_type": "markdown",
      "source": [
        "실습 문제 3. 문자열 포맷 검사 (이메일 주소)\n",
        "- 주어진 문자열이 기본적인 이메일 주소 형식 (user@domain.extension)에 맞는지 검사하는 함수의 내부 코드를 작성하세요. (간단한 형식 검사)\n",
        " - '@'가 정확히 1개 있는지 확인\n",
        " - 도메인 부분에 '.'이 있는지, '.' 앞뒤가 비어있지 않은지 확인\n",
        " - 공백 문자가 없는지 확인\n",
        " - 연속된 '.'이 없는지 확인\n",
        "- 출력 예시는 아래와 같습니다.\n",
        " - test@example.com 이메일 주소 형식 검사: True\n",
        " - user.name@domain.co.kr 이메일 주소 형식 검사: True\n",
        " - test@.com 이메일 주소 형식 검사: False\n",
        " - test@domain 이메일 주소 형식 검사: False\n",
        " - @domain.com 이메일 주소 형식 검사: False\n",
        " - test @example.com 이메일 주소 형식 검사: False\n",
        " - test@domain..com 이메일 주소 형식 검사: False"
      ],
      "metadata": {
        "id": "Bwa_j53-NT6m"
      }
    },
    {
      "cell_type": "code",
      "source": [
        "def is_valid_email(email):\n",
        "    # 코드 작성 부분: 함수에 전달된 이메일 주소 형식 검사하기\n",
        "\n",
        "    #'@'가 정확히 1개 있는지 확인\n",
        "    if email.count('@') != 1: # ==1 로 하지 않는 이유는 @를 가진 모두가 True 로 반환되기 때문, False로 먼저 걸러주어야 함\n",
        "        return False\n",
        "\n",
        "    check = email.split('@') # emal을 @를 기준으로 분리\n",
        "    user = check[0] # @ 기준으로 앞 쪽은 user\n",
        "    domain = check[1] # @ 기준으로 뒤 쪽은 domain\n",
        "\n",
        "    # 도메인 부분에 '.'이 있는지\n",
        "    if '.' not in domain:\n",
        "        return False\n",
        "\n",
        "    # '.' 앞뒤가 비어있지 않은지 확인\n",
        "    if user == '' or domain == '':\n",
        "        return False\n",
        "\n",
        "    domain_check = domain.split('.') # '.'을 기준으로 domain을 extension과 분리 후\n",
        "    for blank in domain_check: # domain과 extension에 공백이 있는지 확인\n",
        "        if blank == '':\n",
        "            return False\n",
        "\n",
        "    # 공백 문자가 없는지 확인\n",
        "    if ' ' in email:\n",
        "        return False\n",
        "\n",
        "    # 연속된 '.'이 없는지 확인\n",
        "    if '..' in email:\n",
        "        return False\n",
        "\n",
        "    return True\n",
        "# 테스트\n",
        "print(f'test@example.com 이메일 주소 형식 검사: {is_valid_email(\"test@example.com\")}')\n",
        "print(f'user.name@domain.co.kr 이메일 주소 형식 검사: {is_valid_email(\"user.name@domain.co.kr\")}')\n",
        "print(f'test@.com 이메일 주소 형식 검사: {is_valid_email(\"test@.com\")}')\n",
        "print(f'test@domain 이메일 주소 형식 검사: {is_valid_email(\"test@domain\")}')\n",
        "print(f'@domain.com 이메일 주소 형식 검사: {is_valid_email(\"@domain.com\")}')\n",
        "print(f'test @example.com 이메일 주소 형식 검사: {is_valid_email(\"test @example.com\")}')\n",
        "print(f'test@domain..com 이메일 주소 형식 검사: {is_valid_email(\"test@domain..com\")}')"
      ],
      "metadata": {
        "id": "VzNA2qSCqIlm",
        "colab": {
          "base_uri": "https://localhost:8080/"
        },
        "outputId": "5fec60b3-6021-4174-d2d9-ce8f79fb4bff"
      },
      "execution_count": null,
      "outputs": [
        {
          "output_type": "stream",
          "name": "stdout",
          "text": [
            "test@example.com 이메일 주소 형식 검사: True\n",
            "user.name@domain.co.kr 이메일 주소 형식 검사: True\n",
            "test@.com 이메일 주소 형식 검사: False\n",
            "test@domain 이메일 주소 형식 검사: False\n",
            "@domain.com 이메일 주소 형식 검사: False\n",
            "test @example.com 이메일 주소 형식 검사: False\n",
            "test@domain..com 이메일 주소 형식 검사: False\n"
          ]
        }
      ]
    }
  ]
}