{
  "nbformat": 4,
  "nbformat_minor": 0,
  "metadata": {
    "colab": {
      "provenance": [],
      "include_colab_link": true
    },
    "kernelspec": {
      "name": "python3",
      "display_name": "Python 3"
    }
  },
  "cells": [
    {
      "cell_type": "markdown",
      "metadata": {
        "id": "view-in-github",
        "colab_type": "text"
      },
      "source": [
        "<a href=\"https://colab.research.google.com/github/hayoi2da/20251772/blob/main/4%EC%A3%BC%EC%B0%A8.ipynb\" target=\"_parent\"><img src=\"https://colab.research.google.com/assets/colab-badge.svg\" alt=\"Open In Colab\"/></a>"
      ]
    },
    {
      "cell_type": "markdown",
      "source": [
        "수강생분의 이름과 학번을 입력해주세요."
      ],
      "metadata": {
        "id": "IBp3gqDl877Y"
      }
    },
    {
      "cell_type": "code",
      "source": [
        "print(\"정하영\", \"20251772\")"
      ],
      "metadata": {
        "id": "8WBfzNcX85gW",
        "outputId": "7a177094-ab67-40ce-b697-ac42debaf421",
        "colab": {
          "base_uri": "https://localhost:8080/"
        }
      },
      "execution_count": 1,
      "outputs": [
        {
          "output_type": "stream",
          "name": "stdout",
          "text": [
            "정하영 20251772\n"
          ]
        }
      ]
    },
    {
      "cell_type": "markdown",
      "source": [
        "실습 문제 1. 사용자로부터 두 개의 숫자와 연산자(+, -, *, /)를 입력받아 계산 결과를 출력하는 프로그램을 작성하세요."
      ],
      "metadata": {
        "id": "rhMUXzHgM1KO"
      }
    },
    {
      "cell_type": "code",
      "source": [
        "num1 = float(input(\"첫 번째 숫자를 입력하세요: \"))\n",
        "num2 = float(input(\"두 번째 숫자를 입력하세요: \"))\n",
        "operator = input(\"연산자(+, -, *, /)를 입력하세요: \")\n",
        "\n",
        "# 코드 작성 부분\n",
        "\n",
        "if (operator == \"+\"):\n",
        "    print(num1 + num2)\n",
        "if (operator == \"-\"):\n",
        "    print(num1 - num2)\n",
        "if (operator == \"*\"):\n",
        "    print(num1 * num2)\n",
        "if (operator == \"/\"):\n",
        "    print(num1 / num2)"
      ],
      "metadata": {
        "id": "-vT4w_yHM4AQ",
        "colab": {
          "base_uri": "https://localhost:8080/"
        },
        "outputId": "1c3e451b-b1ba-426e-9f22-37b053be9a26"
      },
      "execution_count": null,
      "outputs": [
        {
          "output_type": "stream",
          "name": "stdout",
          "text": [
            "첫 번째 숫자를 입력하세요: 9\n",
            "두 번째 숫자를 입력하세요: 2\n",
            "연산자(+, -, *, /)를 입력하세요: *\n",
            "18.0\n"
          ]
        }
      ]
    },
    {
      "cell_type": "markdown",
      "source": [
        "실습 문제 2. 세 변의 길이를 입력받아 삼각형의 유형(정삼각형, 이등변삼각형, 직각삼각형, 일반삼각형)을 판별하는 프로그램을 작성하세요."
      ],
      "metadata": {
        "id": "g9k7aOeaNBUL"
      }
    },
    {
      "cell_type": "code",
      "source": [
        "a = float(input(\"첫 번째 변의 길이를 입력하세요: \"))\n",
        "b = float(input(\"두 번째 변의 길이를 입력하세요: \"))\n",
        "c = float(input(\"세 번째 변의 길이를 입력하세요: \"))\n",
        "\n",
        "# 삼각형 조건 검사: 가장 긴 변의 길이가 나머지 두 변의 길이의 합보다 작아야 함\n",
        "# 위 조건 성립 안하면 \"삼각형이 될 수 없습니다\" 출력\n",
        "\n",
        "# 정삼각형 정의: 모든 변의 길이가 같음\n",
        "# 이등변삼각형: 두 변의 길이가 같음\n",
        "# 직각삼각형: 두 변의 길이 각각의 제곱의 합이 나머지 변의 길이 제곱과 같음\n",
        "# 일반삼각형: 정삼각형, 이등변삼각형, 직각삼각형이 아닌 그 외\n",
        "\n",
        "# 코드 작성 부분\n",
        "\n",
        "# max : 최댓값을 반환해주는 함수\n",
        "\n",
        "i = max(a, b, c) # 입력받은 a, b, c 중에서 가장 긴 변(최댓값)을 변수에 저장\n",
        "\n",
        "sum = a + b + c # 세 변의 합\n",
        "\n",
        "sum -= i # 세 변의 합에서 가장 긴 변 빼기 = 나머지 두 변의 합\n",
        "\n",
        "if i < sum: # 가장 긴 변의 길이가 나머지 두 변의 길이의 합보다 작다면 어떤 삼각형인지 판정 시작\n",
        "    if a == b and a == c:\n",
        "        print(\"정삼각형입니다.\")\n",
        "    elif a == b or b == c or c == a:\n",
        "        print(\"이등변삼각형입니다.\")\n",
        "    elif a ** 2 + b ** 2 == c ** 2 or  b ** 2 + c ** 2 == a ** 2 or  c ** 2 + a ** 2 == b ** 2:\n",
        "        print(\"직각삼각형입니다.\")\n",
        "    else:\n",
        "        print(\"일반삼각형입니다.\")\n",
        "else:\n",
        "    print(\"삼각형이 될 수 없습니다.\")"
      ],
      "metadata": {
        "id": "fc3NOprbNH-0",
        "colab": {
          "base_uri": "https://localhost:8080/"
        },
        "outputId": "44c9da11-2674-4214-f450-f5d406f2f1a2"
      },
      "execution_count": null,
      "outputs": [
        {
          "output_type": "stream",
          "name": "stdout",
          "text": [
            "첫 번째 변의 길이를 입력하세요: 3\n",
            "두 번째 변의 길이를 입력하세요: 4\n",
            "세 번째 변의 길이를 입력하세요: 5\n",
            "직각삼각형입니다.\n"
          ]
        }
      ]
    },
    {
      "cell_type": "markdown",
      "source": [
        "실습 문제 3. 사용자의 몸무게(kg)와 키(m)를 입력받아 BMI 지수를 계산하고 비만도를 판정하는 프로그램을 작성하세요.\n",
        "- BMI 지수 = 몸무게 / 키의 제곱\n",
        "- 18.5 미만: 저체중\n",
        "- 18.5 이상 23 미만: 정상\n",
        "- 23 이상 25 미만: 과체중\n",
        "- 25 이상 30 미만: 경도비만\n",
        "- 30 이상: 고도비만"
      ],
      "metadata": {
        "id": "Bwa_j53-NT6m"
      }
    },
    {
      "cell_type": "code",
      "source": [
        "weight = float(input(\"몸무게(kg)를 입력하세요: \"))\n",
        "height = float(input(\"키(m)를 입력하세요 (예: 175cm이면 1.75로 입력): \"))\n",
        "\n",
        "# 코드 작성 부분\n",
        "\n",
        "BMI = weight / (height ** 2)\n",
        "\n",
        "if  BMI < 18.5:\n",
        "    print(\"저체중\")\n",
        "if 18.5 <= BMI < 23:\n",
        "    print(\"정상\")\n",
        "if 23 <= BMI < 25:\n",
        "    print(\"과체중\")\n",
        "if 25 <= BMI < 30:\n",
        "    print(\"경도비만\")\n",
        "if BMI >= 30:\n",
        "    print(\"고도비만\")"
      ],
      "metadata": {
        "id": "NGL3omQlNVbc",
        "colab": {
          "base_uri": "https://localhost:8080/"
        },
        "outputId": "a2ae9559-82ce-4b3e-c7a2-5a4090142f8d"
      },
      "execution_count": null,
      "outputs": [
        {
          "output_type": "stream",
          "name": "stdout",
          "text": [
            "몸무게(kg)를 입력하세요: 72\n",
            "키(m)를 입력하세요 (예: 175cm이면 1.75로 입력): 1.67\n",
            "경도비만\n"
          ]
        }
      ]
    }
  ]
}