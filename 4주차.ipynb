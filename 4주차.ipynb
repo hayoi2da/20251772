{
  "nbformat": 4,
  "nbformat_minor": 0,
  "metadata": {
    "colab": {
      "provenance": [],
      "authorship_tag": "ABX9TyN1CzSXIEKmzEVkTtE9zC9P",
      "include_colab_link": true
    },
    "kernelspec": {
      "name": "python3",
      "display_name": "Python 3"
    },
    "language_info": {
      "name": "python"
    }
  },
  "cells": [
    {
      "cell_type": "markdown",
      "metadata": {
        "id": "view-in-github",
        "colab_type": "text"
      },
      "source": [
        "<a href=\"https://colab.research.google.com/github/hayoi2da/20251772/blob/main/4%EC%A3%BC%EC%B0%A8.ipynb\" target=\"_parent\"><img src=\"https://colab.research.google.com/assets/colab-badge.svg\" alt=\"Open In Colab\"/></a>"
      ]
    },
    {
      "cell_type": "markdown",
      "source": [
        "실습 문제 1. 사용자로부터 입력받은 숫자의 팩토리얼을 계산하는 프로그램을 작성하세요.\n",
        "\n",
        "예시: 입력값 5일때 출력값\n",
        "팩토리얼을 계산할 숫자를 입력하세요: 5\n",
        "5! = 120 (for문 사용)\n",
        "5! = 120 (while문 사용)"
      ],
      "metadata": {
        "id": "z9FG0D0qyTRr"
      }
    },
    {
      "cell_type": "code",
      "source": [
        "# 사용자 입력 받기\n",
        "n = int(input(\"팩토리얼을 계산할 숫자를 입력하세요: \"))\n",
        "\n",
        "# for문을 사용한 팩토리얼 계산 코드\n",
        "i = 0 # 초기화 코드\n",
        "fac = 1 # 0으로 초기화하면 출력값이 0(0부터 곱하기 때문)이됨 주의.\n",
        "\n",
        "for i in range(n, 0, -1): # 받은 숫자로부터 변수가 -1씩 숫자가 작아져서 0 + 1인 1까지의 숫자가 출력됨.\n",
        "    fac *= i # fac = fac * i 와 같음, 입력받은 변수 i를 곱해주는 식\n",
        "\n",
        "print(f\"{n}! = {fac}\") # 들여 쓰기 하면 입력 받은 숫자만큼 반복됨 주의.\n",
        "\n",
        "# while문을 사용한 팩토리얼 계산 코드\n",
        "n = int(input(\"팩토리얼을 계산할 숫자를 입력하세요: \"))\n",
        "i = 1\n",
        "fac = 1\n",
        "\n",
        "while i < n + 1: # n까지의 숫자를 구하고\n",
        "    fac *= i # 구해진 숫자끼리 곱해줌\n",
        "    i += 1 # 1부터 하나씩 더해가면서 숫자 구하기\n",
        "\n",
        "print(f\"{n}! = {fac}\")"
      ],
      "metadata": {
        "id": "wMOQWYq3yU9_"
      },
      "execution_count": null,
      "outputs": []
    },
    {
      "cell_type": "markdown",
      "source": [
        "실습 문제 2. 1부터 사용자가 입력한 숫자까지의 모든 소수를 찾아 출력하는 프로그램을 작성하세요.\n",
        "\n",
        "예시: 입력값 10일때 출력값\n",
        "1부터 어떤 숫자까지의 소수를 찾을까요? 10\n",
        "1부터 10까지의 소수:\n",
        "2 3 5 7"
      ],
      "metadata": {
        "id": "UC2a1vN6yIfm"
      }
    },
    {
      "cell_type": "code",
      "source": [
        "# 사용자 입력 받기\n",
        "n = int(input(\"1부터 어떤 숫자까지의 소수를 찾을까요? \")) # 소수 = 자연수 중에서 1과 자기 자신만을 약수로 가지는 수\n",
        "\n",
        "print(f\"1부터 {n}까지의 소수:\")\n",
        "\n",
        "# 코드 작성 부분\n",
        "for num in range(1, n + 1): # 1부터 입력 받은 수까지 검사\n",
        "    sosu = True # 일단 모두 소수가 맞다고 가정\n",
        "\n",
        "    if num == 1: # 1은 소수가 아니므로 제외하는 코드\n",
        "        continue\n",
        "\n",
        "    for i in range(2, num): # 2부터 num - 1까지 수로\n",
        "        if num % i == 0: # 나눠지는지 확인.\n",
        "            sosu = False # 나눠지면 소수가 아님\n",
        "            break # 더이상 계산할 필요 없음. but, break하지 않아도 식은 성립. -> 시간 단축\n",
        "\n",
        "    if sosu:\n",
        "        print(num, end = ' ')"
      ],
      "metadata": {
        "id": "zsMs1m0ayM-z"
      },
      "execution_count": null,
      "outputs": []
    },
    {
      "cell_type": "markdown",
      "source": [
        ":실습 문제 3. 사용자가 입력한 문자열에서 모음(a, e, i, o, u)의 개수를 세는 프로그램을 작성하세요.\n",
        "\n",
        "예시: 입력값 vocabularly일때 출력값\n",
        "문자열을 입력하세요: vocabularly\n",
        "입력한 문자열 'vocabularly'에는 4개의 모음이 있습니다.\n",
        "각 모음별 개수:\n",
        "'a': 2개\n",
        "'e': 0개\n",
        "'i': 0개\n",
        "'o': 1개\n",
        "'u': 1개"
      ],
      "metadata": {
        "id": "xI1LDGu0yXax"
      }
    },
    {
      "cell_type": "code",
      "source": [
        "# 사용자 입력 받기\n",
        "text = input(\"문자열을 입력하세요: \").lower()\n",
        "\n",
        "# 모음 리스트\n",
        "vowels = ['a', 'e', 'i', 'o', 'u']\n",
        "\n",
        "# 코드 작성 부분\n",
        "aa = 0 # 각 모음 개수 초기화\n",
        "ee = 0\n",
        "ii = 0\n",
        "oo = 0\n",
        "uu = 0\n",
        "\n",
        "for mo in text: # 모음 개수 세기\n",
        "    if mo == 'a': # text 안에 mo 라는 모음이 있을 때마다 개수 +1 하기\n",
        "        aa += 1\n",
        "    if mo == 'e':\n",
        "        ee += 1\n",
        "    if mo == 'i':\n",
        "        ii += 1\n",
        "    if mo == 'o':\n",
        "        oo += 1\n",
        "    if mo == 'u':\n",
        "        uu += 1\n",
        "\n",
        "sum = aa + ee + ii + oo + uu # text 안에 있는 모음 수 전체\n",
        "\n",
        "print(f\"입력한 문자열 '{text}'에는 {sum}개의 모음이 있습니다.\")\n",
        "\n",
        "print(\"각 모음 별 개수:\")\n",
        "print(f\"'a' : {aa}개\")\n",
        "print(f\"'e' : {ee}개\")\n",
        "print(f\"'i' : {ii}개\")\n",
        "print(f\"'o' : {oo}개\")\n",
        "print(f\"'u' : {uu}개\")"
      ],
      "metadata": {
        "id": "HAe-w3sCya46"
      },
      "execution_count": null,
      "outputs": []
    }
  ]
}