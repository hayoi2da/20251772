{
  "nbformat": 4,
  "nbformat_minor": 0,
  "metadata": {
    "colab": {
      "provenance": [],
      "include_colab_link": true
    },
    "kernelspec": {
      "name": "python3",
      "display_name": "Python 3"
    }
  },
  "cells": [
    {
      "cell_type": "markdown",
      "metadata": {
        "id": "view-in-github",
        "colab_type": "text"
      },
      "source": [
        "<a href=\"https://colab.research.google.com/github/hayoi2da/20251772/blob/main/Python_week_2_%EC%A0%95%ED%95%98%EC%98%81_20251772.ipynb\" target=\"_parent\"><img src=\"https://colab.research.google.com/assets/colab-badge.svg\" alt=\"Open In Colab\"/></a>"
      ]
    },
    {
      "cell_type": "code",
      "metadata": {
        "id": "2EJdFnL88CXW",
        "colab": {
          "base_uri": "https://localhost:8080/"
        },
        "outputId": "d3546116-e8ea-47de-be68-0728ce9754fe"
      },
      "source": [
        "# 문제 1. Hello, World! 출력하세요.\n",
        "\n",
        "# 정답 1.\n",
        "print(\"Hello, World!\")"
      ],
      "execution_count": null,
      "outputs": [
        {
          "output_type": "stream",
          "name": "stdout",
          "text": [
            "Hello, World!\n"
          ]
        }
      ]
    },
    {
      "cell_type": "code",
      "metadata": {
        "id": "WT7oec_X-QHD",
        "colab": {
          "base_uri": "https://localhost:8080/"
        },
        "outputId": "11addd1c-9d37-41d9-8ca7-ce9414a42098"
      },
      "source": [
        "# 문제 2. samsung 이라는 변수로 50000원을 설정하시오. samsung 주식 10주를 보유하고 있을 때, 총 평가금액을 출력하세요.\n",
        "\n",
        "# 정답 2.\n",
        "samsung = 50000\n",
        "print(samsung * 10)"
      ],
      "execution_count": null,
      "outputs": [
        {
          "output_type": "stream",
          "name": "stdout",
          "text": [
            "500000\n"
          ]
        }
      ]
    },
    {
      "cell_type": "code",
      "metadata": {
        "id": "cHJvktiS-SiV",
        "colab": {
          "base_uri": "https://localhost:8080/"
        },
        "outputId": "5d166c4c-b8d1-4edc-c6e2-ffe0139aa7e6"
      },
      "source": [
        "# 문제 3. 아래 변수에 바인딩된 값의 타입을 판별해보세요.\n",
        "a = \"132\"\n",
        "\n",
        "# 정답 3.\n",
        "print(type(a))"
      ],
      "execution_count": null,
      "outputs": [
        {
          "output_type": "stream",
          "name": "stdout",
          "text": [
            "<class 'str'>\n"
          ]
        }
      ]
    },
    {
      "cell_type": "code",
      "metadata": {
        "id": "Pw3DADcDAPUv",
        "colab": {
          "base_uri": "https://localhost:8080/"
        },
        "outputId": "54cf1421-e2b9-42ee-ec60-cacf571b7e96"
      },
      "source": [
        "# 문제 4. 문자열 \"720\"을 정수형으로 변환한 변수와 타입을 출력하세요.\n",
        "num_str = \"720\"\n",
        "\n",
        "# 정답 4.\n",
        "num_int = int(num_str)\n",
        "print(num_int, type(num_int))"
      ],
      "execution_count": null,
      "outputs": [
        {
          "output_type": "stream",
          "name": "stdout",
          "text": [
            "720 <class 'int'>\n"
          ]
        }
      ]
    },
    {
      "cell_type": "code",
      "metadata": {
        "id": "KSMWrAUVAeOV",
        "colab": {
          "base_uri": "https://localhost:8080/"
        },
        "outputId": "6a47f83d-87dc-4632-8f08-8cc9babbba03"
      },
      "source": [
        "# 문제 5. 실수형 3.141592 를 문자열로 변환한 변수와 타입을 출력하세요.\n",
        "pi = 3.141592\n",
        "\n",
        "# 정답 5.\n",
        "pi_str = str(pi)\n",
        "print(pi_str, type(pi_str))"
      ],
      "execution_count": null,
      "outputs": [
        {
          "output_type": "stream",
          "name": "stdout",
          "text": [
            "3.141592 <class 'str'>\n"
          ]
        }
      ]
    },
    {
      "cell_type": "code",
      "metadata": {
        "id": "MzOmjmvKArEJ",
        "colab": {
          "base_uri": "https://localhost:8080/"
        },
        "outputId": "3bd27178-5a1e-4d6c-8e18-5751f0ee2c8a"
      },
      "source": [
        "# 문제 6. 문자열 \"3.141592\" 를 실수형으로 변환한 변수와 타입을 출력하세요.\n",
        "pi = \"3.141592\"\n",
        "\n",
        "# 정답 6.\n",
        "pi_float = float(pi)\n",
        "print(pi_float, type(pi_float))"
      ],
      "execution_count": null,
      "outputs": [
        {
          "output_type": "stream",
          "name": "stdout",
          "text": [
            "3.141592 <class 'float'>\n"
          ]
        }
      ]
    },
    {
      "cell_type": "code",
      "metadata": {
        "id": "D5rdsTo3BLF-",
        "colab": {
          "base_uri": "https://localhost:8080/"
        },
        "outputId": "b2b64ff4-f2b4-413c-d97e-70106ae43d83"
      },
      "source": [
        "# 문제 7. 에어컨이 월 48,584원에 무이자 36개월의 조건으로 홈쇼핑에서 판매 중입니다. 총 구입 금액을 계산한 후 이를 출력하세요.\n",
        "\n",
        "# 정답 7.\n",
        "money = 48584\n",
        "print(money * 36)"
      ],
      "execution_count": null,
      "outputs": [
        {
          "output_type": "stream",
          "name": "stdout",
          "text": [
            "1749024\n"
          ]
        }
      ]
    },
    {
      "cell_type": "code",
      "metadata": {
        "id": "nDHur7aBBd4c",
        "colab": {
          "base_uri": "https://localhost:8080/"
        },
        "outputId": "c204e235-5beb-4b1e-814a-e37bbbab6365"
      },
      "source": [
        "# 문제 8. 두 정수 A와 B를 입력받은 다음, A+B 결과값을 출력하는 프로그램을 작성하시오.\n",
        "# 입력 시, A에 30, B에 10 입력하세요.\n",
        "# 문제 링크: https://www.acmicpc.net/problem/1000\n",
        "\n",
        "# 정답 8.\n",
        "values = input()\n",
        "values = values.split()\n",
        "a = int(values[0])\n",
        "b = int(values[1])\n",
        "# 코드 작성: A+B 결과값 출력하는 코드\n",
        "print(a + b)"
      ],
      "execution_count": null,
      "outputs": [
        {
          "output_type": "stream",
          "name": "stdout",
          "text": [
            "30 10\n",
            "40\n"
          ]
        }
      ]
    },
    {
      "cell_type": "code",
      "metadata": {
        "id": "LhO5wV8-CGkl",
        "colab": {
          "base_uri": "https://localhost:8080/"
        },
        "outputId": "fa6beb7c-124e-4029-ac3e-a7d0c6e1f6bf"
      },
      "source": [
        "# 문제 9. 두 정수 A와 B를 입력받은 다음, A/B 결과값을 출력하는 프로그램을 작성하시오.\n",
        "# 입력 시, A에 30, B에 10 입력하세요.\n",
        "# 문제 링크: https://www.acmicpc.net/problem/1008\n",
        "\n",
        "# 정답 9.\n",
        "values = input()\n",
        "values = values.split()\n",
        "a = int(values[0])\n",
        "b = int(values[1])\n",
        "# 코드 작성: A/B 결과값 출력하는 코드\n",
        "print(a / b)"
      ],
      "execution_count": null,
      "outputs": [
        {
          "output_type": "stream",
          "name": "stdout",
          "text": [
            "30 10\n",
            "3.0\n"
          ]
        }
      ]
    },
    {
      "cell_type": "code",
      "metadata": {
        "id": "1341GUDfE3yc",
        "colab": {
          "base_uri": "https://localhost:8080/"
        },
        "outputId": "437dbbe5-81c6-483e-c3de-3162a70e7d8c"
      },
      "source": [
        "# 문제 10. 두 정수 A와 B를 입력받은 다음, A+B, A-B, A*B, A/B(몫), A%B(나머지) 정수형 결과값을 출력하는 프로그램을 작성하시오.\n",
        "# 입력 시, A에 32, B에 3 입력하세요.\n",
        "# 문제 링크: https://www.acmicpc.net/problem/10869\n",
        "\n",
        "# 정답 10.\n",
        "values = input()\n",
        "values = values.split()\n",
        "a = int(values[0])\n",
        "b = int(values[1])\n",
        "# 코드 작성: A+B 결과값 출력\n",
        "# 코드 작성: A-B 결과값 출력\n",
        "# 코드 작성: A*B 결과값 출력\n",
        "# 코드 작성: A/B 결과값 출력\n",
        "# 코드 작성: A%B 결과값 출력\n",
        "\n",
        "print(a + b)\n",
        "print(a - b)\n",
        "print(a * b)\n",
        "print(a / b)\n",
        "print(a % b)"
      ],
      "execution_count": null,
      "outputs": [
        {
          "output_type": "stream",
          "name": "stdout",
          "text": [
            "32 3\n",
            "35\n",
            "29\n",
            "96\n",
            "10.666666666666666\n",
            "2\n"
          ]
        }
      ]
    },
    {
      "cell_type": "code",
      "metadata": {
        "id": "980er8RZJzJ1",
        "colab": {
          "base_uri": "https://localhost:8080/"
        },
        "outputId": "81dbfedb-f013-4995-ecb8-94179cbd3e43"
      },
      "source": [
        "# 문제 11. A, B, C 입력받은 다음, 4가지 나머지값을 출력한다.\n",
        "# (A+B)%C, ((A%C) + (B%C))%C, (A×B)%C, ((A%C) × (B%C))%C를 출력한다.\n",
        "# 입력 시, 10 20 30 을 입력하세요.\n",
        "# 문제 링크: https://www.acmicpc.net/problem/10430\n",
        "\n",
        "# 정답 11.\n",
        "values = input()\n",
        "values = values.split()\n",
        "a = int(values[0])\n",
        "b = int(values[1])\n",
        "c = int(values[2])\n",
        "\n",
        "#코드 작성: 첫째 줄에 (A+B)%C\n",
        "#코드 작성: 둘째 줄에 ((A%C) + (B%C))%C\n",
        "#코드 작성: 셋째 줄에 (A×B)%C\n",
        "#코드 작성: 넷째 줄에 ((A%C) × (B%C))%C 출력\n",
        "\n",
        "print((a + b) % c)\n",
        "print(((a % c) + (b % c)) % c)\n",
        "print((a * b) % c)\n",
        "print((a % c) * (b % c) % c)"
      ],
      "execution_count": null,
      "outputs": [
        {
          "output_type": "stream",
          "name": "stdout",
          "text": [
            "10 20 30\n",
            "0\n",
            "0\n",
            "20\n",
            "20\n"
          ]
        }
      ]
    },
    {
      "cell_type": "code",
      "metadata": {
        "id": "x_eVL3ZivZxF",
        "colab": {
          "base_uri": "https://localhost:8080/"
        },
        "outputId": "4f459d7f-a40e-40da-f2bf-fd095f543efd"
      },
      "source": [
        "# 문제 12. 제곱승 연산자를 이용하여 3의 5승 결과를 출력하시오.\n",
        "\n",
        "# 정답 12.\n",
        "print(3 ** 5)"
      ],
      "execution_count": null,
      "outputs": [
        {
          "output_type": "stream",
          "name": "stdout",
          "text": [
            "243\n"
          ]
        }
      ]
    },
    {
      "cell_type": "code",
      "metadata": {
        "id": "NeFUClHeyr96",
        "colab": {
          "base_uri": "https://localhost:8080/"
        },
        "outputId": "d3ad5dec-b6d7-4d43-adbc-9e88b95b71f5"
      },
      "source": [
        "# 문제 13. 아래 코드의 오류 메시지를 확인하고, 정상적으로 동작하도록 수정하시오.\n",
        "# 기대하는 출력값은 152.6 입니다.\n",
        "# a = '76.3'\n",
        "# b = float(a)\n",
        "# print(a + b)\n",
        "\n",
        "# 정답 13.\n",
        "a = 76.3\n",
        "b = float(a)\n",
        "print(a + b)"
      ],
      "execution_count": null,
      "outputs": [
        {
          "output_type": "stream",
          "name": "stdout",
          "text": [
            "152.6\n"
          ]
        }
      ]
    },
    {
      "cell_type": "code",
      "metadata": {
        "id": "uLBVEJ5kzDzU",
        "colab": {
          "base_uri": "https://localhost:8080/"
        },
        "outputId": "c3b48ed7-c794-43f5-f7b0-bb8234e1e9b0"
      },
      "source": [
        "# 문제 13. 아래 코드의 오류 메시지를 확인하고, 정상적으로 동작하도록 수정하시오.\n",
        "# 기대하는 출력값은 \"76.376.3\" 입니다.\n",
        "a = '76.3'\n",
        "b = float(a)\n",
        "print(a + b)\n",
        "\n",
        "# 정답 13.\n",
        "a = \"76.3\"\n",
        "b = str(a)\n",
        "print('\"' + a + b + '\"')"
      ],
      "execution_count": null,
      "outputs": [
        {
          "output_type": "stream",
          "name": "stdout",
          "text": [
            "\"76.376.3\"\n"
          ]
        }
      ]
    },
    {
      "cell_type": "code",
      "metadata": {
        "id": "RvdCy5LCzWBI"
      },
      "source": [
        "# 문제 14. 아래의 코드를 모두 주석처리하시오.\n",
        "# 한번에 주석처리하는 단축키는 Ctrl + / 입니다.\n",
        "# a = '76.3'\n",
        "# b = float(a)\n",
        "# print(a + b)"
      ],
      "execution_count": null,
      "outputs": []
    },
    {
      "cell_type": "code",
      "metadata": {
        "id": "vd3v855fzm6_",
        "colab": {
          "base_uri": "https://localhost:8080/"
        },
        "outputId": "7abef62c-4c0f-4ebf-a7fc-74f5c906ee4e"
      },
      "source": [
        "# 문제 15. 아래의 두 문자열을 하나의 문자열 변수로 합친 후 출력하시오.\n",
        "s = \"Hello, Python!!\\n\"\n",
        "t = \"Hello, OOP\\n\"\n",
        "\n",
        "# 정답 15.\n",
        "print(s + t)"
      ],
      "execution_count": null,
      "outputs": [
        {
          "output_type": "stream",
          "name": "stdout",
          "text": [
            "Hello, Python!!\n",
            "Hello, OOP\n",
            "\n"
          ]
        }
      ]
    },
    {
      "cell_type": "code",
      "metadata": {
        "id": "hOeHMK180SXC",
        "colab": {
          "base_uri": "https://localhost:8080/"
        },
        "outputId": "c6465eca-c2ec-455f-9201-19a7fd3bfcc6"
      },
      "source": [
        "# 문제 16. 아래의 문자열을 5번 반복하는 문자열을 생성하시오.\n",
        "s = \"Hello, Python!!\\n\"\n",
        "\n",
        "# 정답 16.\n",
        "print(s * 5)"
      ],
      "execution_count": null,
      "outputs": [
        {
          "output_type": "stream",
          "name": "stdout",
          "text": [
            "Hello, Python!!\n",
            "Hello, Python!!\n",
            "Hello, Python!!\n",
            "Hello, Python!!\n",
            "Hello, Python!!\n",
            "\n"
          ]
        }
      ]
    },
    {
      "cell_type": "code",
      "metadata": {
        "id": "Vs3v7Cz00tcX"
      },
      "source": [
        "# 문제 17. 최초로 이익이 발생하는 판매량(> 손익분기점)을 출력한다. 이익이 발생하지 않으면 -1을 출력한다.\n",
        "# A는 고정비용, B는 가변 비용, C는 제품 가격이다.\n",
        "# 입력 시 1000 70 170 입력하세요.\n",
        "# 문제 링크: https://www.acmicpc.net/problem/1712\n",
        "# 손익분기점 계산식: a + b * x = c * x\n",
        "\n",
        "# 정답 17.\n",
        "values = input()\n",
        "values = values.split()\n",
        "a = int(values[0])\n",
        "b = int(values[1])\n",
        "c = int(values[2])\n",
        "# A는 고정비용, B는 가변 비용, C는 제품 가격이다.\n",
        "# 손익분기점 계산식: a + b * x = c * x\n",
        "\n",
        "# 코드 작성: 이익이 발생하지 않는 경우 -1 출력\n",
        "# 코드 작성: 최초로 이익이 발생하는 정수형 판매량(> 손익분기점) 출력\n"
      ],
      "execution_count": null,
      "outputs": []
    }
  ]
}