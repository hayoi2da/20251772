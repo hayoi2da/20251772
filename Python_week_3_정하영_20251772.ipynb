{
  "nbformat": 4,
  "nbformat_minor": 0,
  "metadata": {
    "colab": {
      "provenance": [],
      "include_colab_link": true
    },
    "kernelspec": {
      "name": "python3",
      "display_name": "Python 3"
    }
  },
  "cells": [
    {
      "cell_type": "markdown",
      "metadata": {
        "id": "view-in-github",
        "colab_type": "text"
      },
      "source": [
        "<a href=\"https://colab.research.google.com/github/hayoi2da/20251772/blob/main/Python_week_3_%E1%84%8C%E1%85%A5%E1%86%BC%E1%84%92%E1%85%A1%E1%84%8B%E1%85%A7%E1%86%BC_20251772.ipynb\" target=\"_parent\"><img src=\"https://colab.research.google.com/assets/colab-badge.svg\" alt=\"Open In Colab\"/></a>"
      ]
    },
    {
      "cell_type": "markdown",
      "source": [
        "수강생분의 이름과 학번을 입력해주세요."
      ],
      "metadata": {
        "id": "IBp3gqDl877Y"
      }
    },
    {
      "cell_type": "code",
      "source": [
        "print(\"정하영\", \"20251772\")"
      ],
      "metadata": {
        "colab": {
          "base_uri": "https://localhost:8080/"
        },
        "id": "8WBfzNcX85gW",
        "outputId": "80f61b7e-9e8d-4e1b-9779-465ab9533798"
      },
      "execution_count": null,
      "outputs": [
        {
          "output_type": "stream",
          "name": "stdout",
          "text": [
            "정하영 20251772\n"
          ]
        }
      ]
    },
    {
      "cell_type": "markdown",
      "source": [
        "문제 1. 동전교환"
      ],
      "metadata": {
        "id": "lrtxEUL-CunZ"
      }
    },
    {
      "cell_type": "code",
      "metadata": {
        "id": "2EJdFnL88CXW",
        "colab": {
          "base_uri": "https://localhost:8080/"
        },
        "outputId": "a0523665-e6ac-4bcc-8db6-9a729de36eaa"
      },
      "source": [
        "## 변수 선언 부분 ##\n",
        "money, c500, c100, c50, c10 = 0, 0, 0, 0, 0\n",
        "\n",
        "## 메인 코드 부분 ##\n",
        "money=int(input(\"교환할 돈은 얼마 ? \"))\n",
        "\n",
        "c500 = money // 500\n",
        "money %= 500\n",
        "\n",
        "c100 = money // 100\n",
        "money %= 100\n",
        "\n",
        "c50 = money // 50\n",
        "money %= 50\n",
        "\n",
        "c10 = money // 10\n",
        "money %= 10\n",
        "\n",
        "print(\"\\n 500원짜리 ==> %d개\" % c500)\n",
        "print(\" 100원짜리   ==> %d개 \" % c100)\n",
        "print(\" 50원짜리 ==> %d개 \" % c50)\n",
        "print(\" 10원짜리   ==> %d개 \" % c10)\n",
        "print(\" 바꾸지 못한 잔돈 ==> %d원\" % money)\n"
      ],
      "execution_count": null,
      "outputs": [
        {
          "output_type": "stream",
          "name": "stdout",
          "text": [
            "교환할 돈은 얼마 ? 10011\n",
            "\n",
            " 500원짜리 ==> 20개\n",
            " 100원짜리   ==> 0개 \n",
            " 50원짜리 ==> 0개 \n",
            " 10원짜리   ==> 1개 \n",
            " 바꾸지 못한 잔돈 ==> 1원\n"
          ]
        }
      ]
    },
    {
      "cell_type": "markdown",
      "source": [
        "문제 2. 마음대로 이동하는 거북이"
      ],
      "metadata": {
        "id": "EC0OfuXgCxrF"
      }
    },
    {
      "cell_type": "code",
      "source": [
        "!pip3 install ColabTurtle  # 코랩용 turtle 패키지 설치"
      ],
      "metadata": {
        "colab": {
          "base_uri": "https://localhost:8080/"
        },
        "id": "fNfsRKuu9T0k",
        "outputId": "ad271e45-5fea-4052-b32c-69e74837709c"
      },
      "execution_count": null,
      "outputs": [
        {
          "output_type": "stream",
          "name": "stdout",
          "text": [
            "Collecting ColabTurtle\n",
            "  Downloading ColabTurtle-2.1.0.tar.gz (6.8 kB)\n",
            "  Preparing metadata (setup.py) ... \u001b[?25l\u001b[?25hdone\n",
            "Building wheels for collected packages: ColabTurtle\n",
            "  Building wheel for ColabTurtle (setup.py) ... \u001b[?25l\u001b[?25hdone\n",
            "  Created wheel for ColabTurtle: filename=ColabTurtle-2.1.0-py3-none-any.whl size=7642 sha256=e14213af9b4b69631ba06f62e6da4c68e75979b6c833ea452fa0b116629f290f\n",
            "  Stored in directory: /root/.cache/pip/wheels/f6/9e/81/137e7da25129474562d30f8660be599e5c8d79228cb747e5b9\n",
            "Successfully built ColabTurtle\n",
            "Installing collected packages: ColabTurtle\n",
            "Successfully installed ColabTurtle-2.1.0\n"
          ]
        }
      ]
    },
    {
      "cell_type": "code",
      "metadata": {
        "id": "WT7oec_X-QHD",
        "colab": {
          "base_uri": "https://localhost:8080/",
          "height": 620
        },
        "outputId": "33b494bb-bf9d-4870-ec67-e41506da5022"
      },
      "source": [
        "from ColabTurtle.Turtle import *\n",
        "import random\n",
        "\n",
        "# 초기화 및 화면 설정\n",
        "initializeTurtle(initial_speed=5, initial_window_size=(800, 600))\n",
        "speed(8)  # 최대 속도로 설정\n",
        "exitCount = 0\n",
        "\n",
        "# 화면 경계 설정\n",
        "screen_width = 800\n",
        "screen_height = 600\n",
        "boundary_x = screen_width // 2\n",
        "boundary_y = screen_height // 2\n",
        "\n",
        "# 메인 루프\n",
        "while True:\n",
        "    # 랜덤 펜 색상 선택\n",
        "    r = random.randint(0, 255)\n",
        "    g = random.randint(0, 255)\n",
        "    b = random.randint(0, 255)\n",
        "    pencolor((r, g, b))\n",
        "\n",
        "    # 화면 내에 있는지 확인\n",
        "    x, y = position()\n",
        "\n",
        "    if 0 < x < screen_width and 0 < y < screen_height:\n",
        "        # 랜덤 이동\n",
        "        angle = random.randint(0, 360)\n",
        "        distance = random.randint(1, 100)\n",
        "        setheading(angle)\n",
        "        forward(distance)\n",
        "    else:\n",
        "        penup()\n",
        "        goto(screen_width//2, screen_height//2)  # 화면 중앙으로 이동\n",
        "        pendown()\n",
        "\n",
        "        exitCount += 1\n",
        "        if exitCount >= 5 :\n",
        "            break\n"
      ],
      "execution_count": null,
      "outputs": [
        {
          "output_type": "display_data",
          "data": {
            "text/plain": [
              "<IPython.core.display.HTML object>"
            ],
            "text/html": [
              "\n",
              "      <svg width=\"800\" height=\"600\">\n",
              "        <rect width=\"100%\" height=\"100%\" fill=\"black\"/>\n",
              "        <line x1=\"400\" y1=\"300\" x2=\"457.545\" y2=\"236.09\" stroke-linecap=\"round\" style=\"stroke:rgb(181,233,107);stroke-width:4\"/><line x1=\"457.545\" y1=\"236.09\" x2=\"527.678\" y2=\"290.884\" stroke-linecap=\"round\" style=\"stroke:rgb(100,73,21);stroke-width:4\"/><line x1=\"527.678\" y1=\"290.884\" x2=\"574.624\" y2=\"310.811\" stroke-linecap=\"round\" style=\"stroke:rgb(12,52,123);stroke-width:4\"/><line x1=\"574.624\" y1=\"310.811\" x2=\"555.054\" y2=\"242.561\" stroke-linecap=\"round\" style=\"stroke:rgb(213,11,50);stroke-width:4\"/><line x1=\"555.054\" y1=\"242.561\" x2=\"546.274\" y2=\"159.021\" stroke-linecap=\"round\" style=\"stroke:rgb(143,125,213);stroke-width:4\"/><line x1=\"546.274\" y1=\"159.021\" x2=\"466.489\" y2=\"181.899\" stroke-linecap=\"round\" style=\"stroke:rgb(173,163,180);stroke-width:4\"/><line x1=\"466.489\" y1=\"181.899\" x2=\"443.104\" y2=\"187.298\" stroke-linecap=\"round\" style=\"stroke:rgb(183,241,41);stroke-width:4\"/><line x1=\"443.104\" y1=\"187.298\" x2=\"467.72\" y2=\"245.29\" stroke-linecap=\"round\" style=\"stroke:rgb(246,160,137);stroke-width:4\"/><line x1=\"467.72\" y1=\"245.29\" x2=\"458.117\" y2=\"313.618\" stroke-linecap=\"round\" style=\"stroke:rgb(173,111,92);stroke-width:4\"/><line x1=\"458.117\" y1=\"313.618\" x2=\"518.87\" y2=\"287.83\" stroke-linecap=\"round\" style=\"stroke:rgb(120,165,179);stroke-width:4\"/><line x1=\"518.87\" y1=\"287.83\" x2=\"512.598\" y2=\"228.159\" stroke-linecap=\"round\" style=\"stroke:rgb(151,35,123);stroke-width:4\"/><line x1=\"512.598\" y1=\"228.159\" x2=\"550.347\" y2=\"246.571\" stroke-linecap=\"round\" style=\"stroke:rgb(243,216,170);stroke-width:4\"/><line x1=\"550.347\" y1=\"246.571\" x2=\"520.461\" y2=\"243.956\" stroke-linecap=\"round\" style=\"stroke:rgb(49,91,51);stroke-width:4\"/><line x1=\"520.461\" y1=\"243.956\" x2=\"519.31\" y2=\"221.986\" stroke-linecap=\"round\" style=\"stroke:rgb(90,43,83);stroke-width:4\"/><line x1=\"519.31\" y1=\"221.986\" x2=\"453.959\" y2=\"247.072\" stroke-linecap=\"round\" style=\"stroke:rgb(161,226,0);stroke-width:4\"/><line x1=\"453.959\" y1=\"247.072\" x2=\"504.279\" y2=\"214.394\" stroke-linecap=\"round\" style=\"stroke:rgb(190,109,221);stroke-width:4\"/><line x1=\"504.279\" y1=\"214.394\" x2=\"502.551\" y2=\"313.379\" stroke-linecap=\"round\" style=\"stroke:rgb(227,115,33);stroke-width:4\"/><line x1=\"502.551\" y1=\"313.379\" x2=\"492.051\" y2=\"295.192\" stroke-linecap=\"round\" style=\"stroke:rgb(236,252,44);stroke-width:4\"/><line x1=\"492.051\" y1=\"295.192\" x2=\"498.745\" y2=\"297.239\" stroke-linecap=\"round\" style=\"stroke:rgb(182,120,252);stroke-width:4\"/><line x1=\"498.745\" y1=\"297.239\" x2=\"522.221\" y2=\"292.249\" stroke-linecap=\"round\" style=\"stroke:rgb(171,93,82);stroke-width:4\"/><line x1=\"522.221\" y1=\"292.249\" x2=\"514.035\" y2=\"265.472\" stroke-linecap=\"round\" style=\"stroke:rgb(229,27,45);stroke-width:4\"/><line x1=\"514.035\" y1=\"265.472\" x2=\"503.159\" y2=\"270.543\" stroke-linecap=\"round\" style=\"stroke:rgb(39,210,60);stroke-width:4\"/><line x1=\"503.159\" y1=\"270.543\" x2=\"476.021\" y2=\"287.5\" stroke-linecap=\"round\" style=\"stroke:rgb(65,5,108);stroke-width:4\"/><line x1=\"476.021\" y1=\"287.5\" x2=\"494.148\" y2=\"380.755\" stroke-linecap=\"round\" style=\"stroke:rgb(247,187,50);stroke-width:4\"/><line x1=\"494.148\" y1=\"380.755\" x2=\"487.689\" y2=\"328.15\" stroke-linecap=\"round\" style=\"stroke:rgb(169,109,54);stroke-width:4\"/><line x1=\"487.689\" y1=\"328.15\" x2=\"466.038\" y2=\"315.65\" stroke-linecap=\"round\" style=\"stroke:rgb(234,118,104);stroke-width:4\"/><line x1=\"466.038\" y1=\"315.65\" x2=\"452.115\" y2=\"314.187\" stroke-linecap=\"round\" style=\"stroke:rgb(117,186,226);stroke-width:4\"/><line x1=\"452.115\" y1=\"314.187\" x2=\"418.828\" y2=\"303.371\" stroke-linecap=\"round\" style=\"stroke:rgb(108,34,112);stroke-width:4\"/><line x1=\"418.828\" y1=\"303.371\" x2=\"425.519\" y2=\"310.802\" stroke-linecap=\"round\" style=\"stroke:rgb(76,52,16);stroke-width:4\"/><line x1=\"425.519\" y1=\"310.802\" x2=\"436.586\" y2=\"367.736\" stroke-linecap=\"round\" style=\"stroke:rgb(138,201,59);stroke-width:4\"/><line x1=\"436.586\" y1=\"367.736\" x2=\"430.43\" y2=\"350.822\" stroke-linecap=\"round\" style=\"stroke:rgb(31,90,151);stroke-width:4\"/><line x1=\"430.43\" y1=\"350.822\" x2=\"476.716\" y2=\"358.983\" stroke-linecap=\"round\" style=\"stroke:rgb(82,216,37);stroke-width:4\"/><line x1=\"476.716\" y1=\"358.983\" x2=\"529.961\" y2=\"321.701\" stroke-linecap=\"round\" style=\"stroke:rgb(61,240,173);stroke-width:4\"/><line x1=\"529.961\" y1=\"321.701\" x2=\"496.994\" y2=\"338.499\" stroke-linecap=\"round\" style=\"stroke:rgb(81,207,140);stroke-width:4\"/><line x1=\"496.994\" y1=\"338.499\" x2=\"490.421\" y2=\"350.86\" stroke-linecap=\"round\" style=\"stroke:rgb(242,231,244);stroke-width:4\"/><line x1=\"490.421\" y1=\"350.86\" x2=\"474.925\" y2=\"401.544\" stroke-linecap=\"round\" style=\"stroke:rgb(68,101,156);stroke-width:4\"/><line x1=\"474.925\" y1=\"401.544\" x2=\"494.852\" y2=\"354.598\" stroke-linecap=\"round\" style=\"stroke:rgb(62,2,100);stroke-width:4\"/><line x1=\"494.852\" y1=\"354.598\" x2=\"404.907\" y2=\"351.457\" stroke-linecap=\"round\" style=\"stroke:rgb(68,14,227);stroke-width:4\"/><line x1=\"404.907\" y1=\"351.457\" x2=\"388.968\" y2=\"350.063\" stroke-linecap=\"round\" style=\"stroke:rgb(175,24,140);stroke-width:4\"/><line x1=\"388.968\" y1=\"350.063\" x2=\"414.037\" y2=\"320.187\" stroke-linecap=\"round\" style=\"stroke:rgb(106,4,56);stroke-width:4\"/><line x1=\"414.037\" y1=\"320.187\" x2=\"449.537\" y2=\"396.317\" stroke-linecap=\"round\" style=\"stroke:rgb(242,253,245);stroke-width:4\"/><line x1=\"449.537\" y1=\"396.317\" x2=\"415.411\" y2=\"434.217\" stroke-linecap=\"round\" style=\"stroke:rgb(96,65,159);stroke-width:4\"/><line x1=\"415.411\" y1=\"434.217\" x2=\"441.035\" y2=\"376.664\" stroke-linecap=\"round\" style=\"stroke:rgb(157,146,127);stroke-width:4\"/><line x1=\"441.035\" y1=\"376.664\" x2=\"416.028\" y2=\"317.752\" stroke-linecap=\"round\" style=\"stroke:rgb(56,118,196);stroke-width:4\"/><line x1=\"416.028\" y1=\"317.752\" x2=\"413.5\" y2=\"288.862\" stroke-linecap=\"round\" style=\"stroke:rgb(87,213,109);stroke-width:4\"/><line x1=\"413.5\" y1=\"288.862\" x2=\"351.962\" y2=\"281.306\" stroke-linecap=\"round\" style=\"stroke:rgb(14,52,175);stroke-width:4\"/><line x1=\"351.962\" y1=\"281.306\" x2=\"341.468\" y2=\"335.295\" stroke-linecap=\"round\" style=\"stroke:rgb(238,45,201);stroke-width:4\"/><line x1=\"341.468\" y1=\"335.295\" x2=\"322.48\" y2=\"334.632\" stroke-linecap=\"round\" style=\"stroke:rgb(28,202,50);stroke-width:4\"/><line x1=\"322.48\" y1=\"334.632\" x2=\"363.436\" y2=\"372.824\" stroke-linecap=\"round\" style=\"stroke:rgb(131,251,110);stroke-width:4\"/><line x1=\"363.436\" y1=\"372.824\" x2=\"355.455\" y2=\"387.834\" stroke-linecap=\"round\" style=\"stroke:rgb(208,225,73);stroke-width:4\"/><line x1=\"355.455\" y1=\"387.834\" x2=\"410.421\" y2=\"389.753\" stroke-linecap=\"round\" style=\"stroke:rgb(241,227,52);stroke-width:4\"/><line x1=\"410.421\" y1=\"389.753\" x2=\"433.062\" y2=\"370.071\" stroke-linecap=\"round\" style=\"stroke:rgb(154,84,37);stroke-width:4\"/><line x1=\"433.062\" y1=\"370.071\" x2=\"362.062\" y2=\"370.071\" stroke-linecap=\"round\" style=\"stroke:rgb(251,75,235);stroke-width:4\"/><line x1=\"362.062\" y1=\"370.071\" x2=\"381.53\" y2=\"429.988\" stroke-linecap=\"round\" style=\"stroke:rgb(168,145,174);stroke-width:4\"/><line x1=\"381.53\" y1=\"429.988\" x2=\"393.473\" y2=\"332.718\" stroke-linecap=\"round\" style=\"stroke:rgb(65,201,73);stroke-width:4\"/><line x1=\"393.473\" y1=\"332.718\" x2=\"395.557\" y2=\"330.56\" stroke-linecap=\"round\" style=\"stroke:rgb(37,99,33);stroke-width:4\"/><line x1=\"395.557\" y1=\"330.56\" x2=\"378.6\" y2=\"357.698\" stroke-linecap=\"round\" style=\"stroke:rgb(207,218,16);stroke-width:4\"/><line x1=\"378.6\" y1=\"357.698\" x2=\"345.989\" y2=\"442.654\" stroke-linecap=\"round\" style=\"stroke:rgb(117,58,145);stroke-width:4\"/><line x1=\"345.989\" y1=\"442.654\" x2=\"330.011\" y2=\"441.817\" stroke-linecap=\"round\" style=\"stroke:rgb(242,19,154);stroke-width:4\"/><line x1=\"330.011\" y1=\"441.817\" x2=\"275.769\" y2=\"361.4\" stroke-linecap=\"round\" style=\"stroke:rgb(237,207,22);stroke-width:4\"/><line x1=\"275.769\" y1=\"361.4\" x2=\"306.175\" y2=\"330.994\" stroke-linecap=\"round\" style=\"stroke:rgb(190,11,96);stroke-width:4\"/><line x1=\"306.175\" y1=\"330.994\" x2=\"301.214\" y2=\"356.516\" stroke-linecap=\"round\" style=\"stroke:rgb(124,236,37);stroke-width:4\"/><line x1=\"301.214\" y1=\"356.516\" x2=\"316.061\" y2=\"292.208\" stroke-linecap=\"round\" style=\"stroke:rgb(250,24,49);stroke-width:4\"/><line x1=\"316.061\" y1=\"292.208\" x2=\"334.565\" y2=\"205.153\" stroke-linecap=\"round\" style=\"stroke:rgb(58,167,159);stroke-width:4\"/><line x1=\"334.565\" y1=\"205.153\" x2=\"285.572\" y2=\"204.298\" stroke-linecap=\"round\" style=\"stroke:rgb(197,162,89);stroke-width:4\"/><line x1=\"285.572\" y1=\"204.298\" x2=\"278.048\" y2=\"183.625\" stroke-linecap=\"round\" style=\"stroke:rgb(27,197,133);stroke-width:4\"/><line x1=\"278.048\" y1=\"183.625\" x2=\"259.14\" y2=\"217.735\" stroke-linecap=\"round\" style=\"stroke:rgb(81,2,149);stroke-width:4\"/><line x1=\"259.14\" y1=\"217.735\" x2=\"284.088\" y2=\"205.023\" stroke-linecap=\"round\" style=\"stroke:rgb(52,79,149);stroke-width:4\"/><line x1=\"284.088\" y1=\"205.023\" x2=\"246.958\" y2=\"250.875\" stroke-linecap=\"round\" style=\"stroke:rgb(148,190,84);stroke-width:4\"/><line x1=\"246.958\" y1=\"250.875\" x2=\"269.177\" y2=\"192.993\" stroke-linecap=\"round\" style=\"stroke:rgb(68,77,241);stroke-width:4\"/><line x1=\"269.177\" y1=\"192.993\" x2=\"278.563\" y2=\"252.254\" stroke-linecap=\"round\" style=\"stroke:rgb(227,63,147);stroke-width:4\"/><line x1=\"278.563\" y1=\"252.254\" x2=\"219.166\" y2=\"311.651\" stroke-linecap=\"round\" style=\"stroke:rgb(25,212,37);stroke-width:4\"/><line x1=\"219.166\" y1=\"311.651\" x2=\"168.066\" y2=\"377.056\" stroke-linecap=\"round\" style=\"stroke:rgb(194,109,220);stroke-width:4\"/><line x1=\"168.066\" y1=\"377.056\" x2=\"106.158\" y2=\"415.74\" stroke-linecap=\"round\" style=\"stroke:rgb(160,106,145);stroke-width:4\"/><line x1=\"106.158\" y1=\"415.74\" x2=\"93.013\" y2=\"391.017\" stroke-linecap=\"round\" style=\"stroke:rgb(52,11,2);stroke-width:4\"/><line x1=\"93.013\" y1=\"391.017\" x2=\"36.372\" y2=\"463.514\" stroke-linecap=\"round\" style=\"stroke:rgb(66,169,196);stroke-width:4\"/><line x1=\"36.372\" y1=\"463.514\" x2=\"45.915\" y2=\"523.763\" stroke-linecap=\"round\" style=\"stroke:rgb(255,218,246);stroke-width:4\"/><line x1=\"45.915\" y1=\"523.763\" x2=\"52.007\" y2=\"539.634\" stroke-linecap=\"round\" style=\"stroke:rgb(73,82,64);stroke-width:4\"/><line x1=\"52.007\" y1=\"539.634\" x2=\"35.51\" y2=\"633.191\" stroke-linecap=\"round\" style=\"stroke:rgb(16,88,165);stroke-width:4\"/><line x1=\"400\" y1=\"300\" x2=\"369.244\" y2=\"254.403\" stroke-linecap=\"round\" style=\"stroke:rgb(237,224,118);stroke-width:4\"/><line x1=\"369.244\" y1=\"254.403\" x2=\"420.219\" y2=\"191.454\" stroke-linecap=\"round\" style=\"stroke:rgb(238,90,69);stroke-width:4\"/><line x1=\"420.219\" y1=\"191.454\" x2=\"373.117\" y2=\"177.948\" stroke-linecap=\"round\" style=\"stroke:rgb(205,132,137);stroke-width:4\"/><line x1=\"373.117\" y1=\"177.948\" x2=\"344.65\" y2=\"172.415\" stroke-linecap=\"round\" style=\"stroke:rgb(243,157,207);stroke-width:4\"/><line x1=\"344.65\" y1=\"172.415\" x2=\"420.291\" y2=\"198.46\" stroke-linecap=\"round\" style=\"stroke:rgb(58,122,151);stroke-width:4\"/><line x1=\"420.291\" y1=\"198.46\" x2=\"411.623\" y2=\"205.232\" stroke-linecap=\"round\" style=\"stroke:rgb(118,57,237);stroke-width:4\"/><line x1=\"411.623\" y1=\"205.232\" x2=\"403.072\" y2=\"228.724\" stroke-linecap=\"round\" style=\"stroke:rgb(54,165,151);stroke-width:4\"/><line x1=\"403.072\" y1=\"228.724\" x2=\"380.701\" y2=\"178.479\" stroke-linecap=\"round\" style=\"stroke:rgb(205,224,124);stroke-width:4\"/><line x1=\"380.701\" y1=\"178.479\" x2=\"468.605\" y2=\"192.402\" stroke-linecap=\"round\" style=\"stroke:rgb(60,141,103);stroke-width:4\"/><line x1=\"468.605\" y1=\"192.402\" x2=\"444.332\" y2=\"183.084\" stroke-linecap=\"round\" style=\"stroke:rgb(90,146,149);stroke-width:4\"/><line x1=\"444.332\" y1=\"183.084\" x2=\"459.094\" y2=\"252.532\" stroke-linecap=\"round\" style=\"stroke:rgb(125,9,29);stroke-width:4\"/><line x1=\"459.094\" y1=\"252.532\" x2=\"452.367\" y2=\"210.061\" stroke-linecap=\"round\" style=\"stroke:rgb(46,169,45);stroke-width:4\"/><line x1=\"452.367\" y1=\"210.061\" x2=\"444.363\" y2=\"199.817\" stroke-linecap=\"round\" style=\"stroke:rgb(144,55,196);stroke-width:4\"/><line x1=\"444.363\" y1=\"199.817\" x2=\"419.614\" y2=\"224.566\" stroke-linecap=\"round\" style=\"stroke:rgb(147,182,248);stroke-width:4\"/><line x1=\"419.614\" y1=\"224.566\" x2=\"361.4\" y2=\"289.22\" stroke-linecap=\"round\" style=\"stroke:rgb(10,227,89);stroke-width:4\"/><line x1=\"361.4\" y1=\"289.22\" x2=\"358.981\" y2=\"298.923\" stroke-linecap=\"round\" style=\"stroke:rgb(119,104,176);stroke-width:4\"/><line x1=\"358.981\" y1=\"298.923\" x2=\"428.734\" y2=\"336.011\" stroke-linecap=\"round\" style=\"stroke:rgb(38,149,102);stroke-width:4\"/><line x1=\"428.734\" y1=\"336.011\" x2=\"408.648\" y2=\"302.581\" stroke-linecap=\"round\" style=\"stroke:rgb(12,94,159);stroke-width:4\"/><line x1=\"408.648\" y1=\"302.581\" x2=\"317.518\" y2=\"341.263\" stroke-linecap=\"round\" style=\"stroke:rgb(215,75,127);stroke-width:4\"/><line x1=\"317.518\" y1=\"341.263\" x2=\"374.676\" y2=\"308.263\" stroke-linecap=\"round\" style=\"stroke:rgb(39,36,101);stroke-width:4\"/><line x1=\"374.676\" y1=\"308.263\" x2=\"387.795\" y2=\"315.535\" stroke-linecap=\"round\" style=\"stroke:rgb(88,114,86);stroke-width:4\"/><line x1=\"387.795\" y1=\"315.535\" x2=\"364.376\" y2=\"351.598\" stroke-linecap=\"round\" style=\"stroke:rgb(205,64,232);stroke-width:4\"/><line x1=\"364.376\" y1=\"351.598\" x2=\"323.031\" y2=\"371.763\" stroke-linecap=\"round\" style=\"stroke:rgb(5,250,202);stroke-width:4\"/><line x1=\"323.031\" y1=\"371.763\" x2=\"399.585\" y2=\"401.149\" stroke-linecap=\"round\" style=\"stroke:rgb(6,122,231);stroke-width:4\"/><line x1=\"399.585\" y1=\"401.149\" x2=\"418.573\" y2=\"400.486\" stroke-linecap=\"round\" style=\"stroke:rgb(147,16,98);stroke-width:4\"/><line x1=\"418.573\" y1=\"400.486\" x2=\"324.855\" y2=\"371.834\" stroke-linecap=\"round\" style=\"stroke:rgb(236,54,201);stroke-width:4\"/><line x1=\"324.855\" y1=\"371.834\" x2=\"310.411\" y2=\"352.667\" stroke-linecap=\"round\" style=\"stroke:rgb(96,0,254);stroke-width:4\"/><line x1=\"310.411\" y1=\"352.667\" x2=\"288.892\" y2=\"348.093\" stroke-linecap=\"round\" style=\"stroke:rgb(80,97,50);stroke-width:4\"/><line x1=\"288.892\" y1=\"348.093\" x2=\"285.394\" y2=\"350.032\" stroke-linecap=\"round\" style=\"stroke:rgb(236,243,139);stroke-width:4\"/><line x1=\"285.394\" y1=\"350.032\" x2=\"260.425\" y2=\"301.027\" stroke-linecap=\"round\" style=\"stroke:rgb(225,203,240);stroke-width:4\"/><line x1=\"260.425\" y1=\"301.027\" x2=\"254.731\" y2=\"288.237\" stroke-linecap=\"round\" style=\"stroke:rgb(54,55,215);stroke-width:4\"/><line x1=\"254.731\" y1=\"288.237\" x2=\"319.289\" y2=\"274.515\" stroke-linecap=\"round\" style=\"stroke:rgb(64,185,86);stroke-width:4\"/><line x1=\"319.289\" y1=\"274.515\" x2=\"350.789\" y2=\"329.075\" stroke-linecap=\"round\" style=\"stroke:rgb(104,93,65);stroke-width:4\"/><line x1=\"350.789\" y1=\"329.075\" x2=\"416.55\" y2=\"263.314\" stroke-linecap=\"round\" style=\"stroke:rgb(67,106,10);stroke-width:4\"/><line x1=\"416.55\" y1=\"263.314\" x2=\"372.709\" y2=\"219.473\" stroke-linecap=\"round\" style=\"stroke:rgb(5,126,207);stroke-width:4\"/><line x1=\"372.709\" y1=\"219.473\" x2=\"394.856\" y2=\"256.331\" stroke-linecap=\"round\" style=\"stroke:rgb(173,21,171);stroke-width:4\"/><line x1=\"394.856\" y1=\"256.331\" x2=\"430.605\" y2=\"285.28\" stroke-linecap=\"round\" style=\"stroke:rgb(147,34,37);stroke-width:4\"/><line x1=\"430.605\" y1=\"285.28\" x2=\"408.458\" y2=\"322.138\" stroke-linecap=\"round\" style=\"stroke:rgb(124,101,84);stroke-width:4\"/><line x1=\"408.458\" y1=\"322.138\" x2=\"377.278\" y2=\"314.94\" stroke-linecap=\"round\" style=\"stroke:rgb(199,209,28);stroke-width:4\"/><line x1=\"377.278\" y1=\"314.94\" x2=\"391.06\" y2=\"266.877\" stroke-linecap=\"round\" style=\"stroke:rgb(190,236,22);stroke-width:4\"/><line x1=\"391.06\" y1=\"266.877\" x2=\"421.227\" y2=\"305.49\" stroke-linecap=\"round\" style=\"stroke:rgb(216,52,146);stroke-width:4\"/><line x1=\"421.227\" y1=\"305.49\" x2=\"451.227\" y2=\"253.528\" stroke-linecap=\"round\" style=\"stroke:rgb(138,252,130);stroke-width:4\"/><line x1=\"451.227\" y1=\"253.528\" x2=\"404.42\" y2=\"209.88\" stroke-linecap=\"round\" style=\"stroke:rgb(230,96,136);stroke-width:4\"/><line x1=\"404.42\" y1=\"209.88\" x2=\"422.356\" y2=\"117.607\" stroke-linecap=\"round\" style=\"stroke:rgb(118,21,83);stroke-width:4\"/><line x1=\"422.356\" y1=\"117.607\" x2=\"434.558\" y2=\"145.013\" stroke-linecap=\"round\" style=\"stroke:rgb(126,135,24);stroke-width:4\"/><line x1=\"434.558\" y1=\"145.013\" x2=\"472.068\" y2=\"233.381\" stroke-linecap=\"round\" style=\"stroke:rgb(243,84,46);stroke-width:4\"/><line x1=\"472.068\" y1=\"233.381\" x2=\"513.554\" y2=\"279.456\" stroke-linecap=\"round\" style=\"stroke:rgb(249,57,31);stroke-width:4\"/><line x1=\"513.554\" y1=\"279.456\" x2=\"519.655\" y2=\"349.19\" stroke-linecap=\"round\" style=\"stroke:rgb(237,243,105);stroke-width:4\"/><line x1=\"519.655\" y1=\"349.19\" x2=\"482.525\" y2=\"303.338\" stroke-linecap=\"round\" style=\"stroke:rgb(156,222,203);stroke-width:4\"/><line x1=\"482.525\" y1=\"303.338\" x2=\"489.645\" y2=\"343.715\" stroke-linecap=\"round\" style=\"stroke:rgb(183,23,62);stroke-width:4\"/><line x1=\"489.645\" y1=\"343.715\" x2=\"488.351\" y2=\"348.545\" stroke-linecap=\"round\" style=\"stroke:rgb(37,129,83);stroke-width:4\"/><line x1=\"488.351\" y1=\"348.545\" x2=\"432.382\" y2=\"274.272\" stroke-linecap=\"round\" style=\"stroke:rgb(32,3,19);stroke-width:4\"/><line x1=\"432.382\" y1=\"274.272\" x2=\"416.99\" y2=\"254.572\" stroke-linecap=\"round\" style=\"stroke:rgb(178,225,142);stroke-width:4\"/><line x1=\"416.99\" y1=\"254.572\" x2=\"472.563\" y2=\"312.119\" stroke-linecap=\"round\" style=\"stroke:rgb(139,155,109);stroke-width:4\"/><line x1=\"472.563\" y1=\"312.119\" x2=\"420.641\" y2=\"333.097\" stroke-linecap=\"round\" style=\"stroke:rgb(209,157,215);stroke-width:4\"/><line x1=\"420.641\" y1=\"333.097\" x2=\"433.599\" y2=\"319.201\" stroke-linecap=\"round\" style=\"stroke:rgb(189,84,201);stroke-width:4\"/><line x1=\"433.599\" y1=\"319.201\" x2=\"403.655\" y2=\"327.224\" stroke-linecap=\"round\" style=\"stroke:rgb(175,238,241);stroke-width:4\"/><line x1=\"403.655\" y1=\"327.224\" x2=\"474.15\" y2=\"395.301\" stroke-linecap=\"round\" style=\"stroke:rgb(117,112,123);stroke-width:4\"/><line x1=\"474.15\" y1=\"395.301\" x2=\"527.179\" y2=\"421.165\" stroke-linecap=\"round\" style=\"stroke:rgb(27,39,23);stroke-width:4\"/><line x1=\"527.179\" y1=\"421.165\" x2=\"572.096\" y2=\"456.258\" stroke-linecap=\"round\" style=\"stroke:rgb(138,149,237);stroke-width:4\"/><line x1=\"572.096\" y1=\"456.258\" x2=\"567.314\" y2=\"454.796\" stroke-linecap=\"round\" style=\"stroke:rgb(84,116,148);stroke-width:4\"/><line x1=\"567.314\" y1=\"454.796\" x2=\"565.346\" y2=\"452.532\" stroke-linecap=\"round\" style=\"stroke:rgb(1,118,245);stroke-width:4\"/><line x1=\"565.346\" y1=\"452.532\" x2=\"565.294\" y2=\"449.532\" stroke-linecap=\"round\" style=\"stroke:rgb(100,166,247);stroke-width:4\"/><line x1=\"565.294\" y1=\"449.532\" x2=\"553.464\" y2=\"533.705\" stroke-linecap=\"round\" style=\"stroke:rgb(199,225,20);stroke-width:4\"/><line x1=\"553.464\" y1=\"533.705\" x2=\"541.103\" y2=\"495.663\" stroke-linecap=\"round\" style=\"stroke:rgb(85,75,81);stroke-width:4\"/><line x1=\"541.103\" y1=\"495.663\" x2=\"469.444\" y2=\"509.592\" stroke-linecap=\"round\" style=\"stroke:rgb(191,44,208);stroke-width:4\"/><line x1=\"469.444\" y1=\"509.592\" x2=\"467.509\" y2=\"517.354\" stroke-linecap=\"round\" style=\"stroke:rgb(28,121,93);stroke-width:4\"/><line x1=\"467.509\" y1=\"517.354\" x2=\"481.317\" y2=\"523.215\" stroke-linecap=\"round\" style=\"stroke:rgb(250,148,240);stroke-width:4\"/><line x1=\"481.317\" y1=\"523.215\" x2=\"491.494\" y2=\"529.574\" stroke-linecap=\"round\" style=\"stroke:rgb(157,172,206);stroke-width:4\"/><line x1=\"491.494\" y1=\"529.574\" x2=\"440.923\" y2=\"563.685\" stroke-linecap=\"round\" style=\"stroke:rgb(236,249,105);stroke-width:4\"/><line x1=\"440.923\" y1=\"563.685\" x2=\"397.854\" y2=\"519.086\" stroke-linecap=\"round\" style=\"stroke:rgb(245,89,78);stroke-width:4\"/><line x1=\"397.854\" y1=\"519.086\" x2=\"407.752\" y2=\"476.214\" stroke-linecap=\"round\" style=\"stroke:rgb(234,100,128);stroke-width:4\"/><line x1=\"407.752\" y1=\"476.214\" x2=\"316.903\" y2=\"448.439\" stroke-linecap=\"round\" style=\"stroke:rgb(213,219,250);stroke-width:4\"/><line x1=\"316.903\" y1=\"448.439\" x2=\"305.665\" y2=\"420.623\" stroke-linecap=\"round\" style=\"stroke:rgb(174,232,158);stroke-width:4\"/><line x1=\"305.665\" y1=\"420.623\" x2=\"298.649\" y2=\"392.484\" stroke-linecap=\"round\" style=\"stroke:rgb(61,65,193);stroke-width:4\"/><line x1=\"298.649\" y1=\"392.484\" x2=\"352.924\" y2=\"426.399\" stroke-linecap=\"round\" style=\"stroke:rgb(149,179,120);stroke-width:4\"/><line x1=\"352.924\" y1=\"426.399\" x2=\"413.339\" y2=\"501.005\" stroke-linecap=\"round\" style=\"stroke:rgb(200,173,231);stroke-width:4\"/><line x1=\"413.339\" y1=\"501.005\" x2=\"394.419\" y2=\"411.994\" stroke-linecap=\"round\" style=\"stroke:rgb(138,167,141);stroke-width:4\"/><line x1=\"394.419\" y1=\"411.994\" x2=\"415.187\" y2=\"437.64\" stroke-linecap=\"round\" style=\"stroke:rgb(82,206,95);stroke-width:4\"/><line x1=\"415.187\" y1=\"437.64\" x2=\"397.744\" y2=\"485.564\" stroke-linecap=\"round\" style=\"stroke:rgb(68,107,178);stroke-width:4\"/><line x1=\"397.744\" y1=\"485.564\" x2=\"471.643\" y2=\"489.437\" stroke-linecap=\"round\" style=\"stroke:rgb(114,90,35);stroke-width:4\"/><line x1=\"471.643\" y1=\"489.437\" x2=\"484.499\" y2=\"474.116\" stroke-linecap=\"round\" style=\"stroke:rgb(162,247,219);stroke-width:4\"/><line x1=\"484.499\" y1=\"474.116\" x2=\"458.336\" y2=\"447.953\" stroke-linecap=\"round\" style=\"stroke:rgb(178,245,21);stroke-width:4\"/><line x1=\"458.336\" y1=\"447.953\" x2=\"499.716\" y2=\"386.604\" stroke-linecap=\"round\" style=\"stroke:rgb(65,182,234);stroke-width:4\"/><line x1=\"499.716\" y1=\"386.604\" x2=\"539.912\" y2=\"404.5\" stroke-linecap=\"round\" style=\"stroke:rgb(94,235,200);stroke-width:4\"/><line x1=\"539.912\" y1=\"404.5\" x2=\"532.199\" y2=\"413.693\" stroke-linecap=\"round\" style=\"stroke:rgb(5,128,198);stroke-width:4\"/><line x1=\"532.199\" y1=\"413.693\" x2=\"477.321\" y2=\"470.521\" stroke-linecap=\"round\" style=\"stroke:rgb(48,82,52);stroke-width:4\"/><line x1=\"477.321\" y1=\"470.521\" x2=\"518.53\" y2=\"396.178\" stroke-linecap=\"round\" style=\"stroke:rgb(221,73,129);stroke-width:4\"/><line x1=\"518.53\" y1=\"396.178\" x2=\"481.671\" y2=\"392.953\" stroke-linecap=\"round\" style=\"stroke:rgb(34,106,47);stroke-width:4\"/><line x1=\"481.671\" y1=\"392.953\" x2=\"454.037\" y2=\"343.1\" stroke-linecap=\"round\" style=\"stroke:rgb(246,149,236);stroke-width:4\"/><line x1=\"454.037\" y1=\"343.1\" x2=\"429.781\" y2=\"427.691\" stroke-linecap=\"round\" style=\"stroke:rgb(41,87,121);stroke-width:4\"/><line x1=\"429.781\" y1=\"427.691\" x2=\"461.281\" y2=\"482.251\" stroke-linecap=\"round\" style=\"stroke:rgb(33,95,123);stroke-width:4\"/><line x1=\"461.281\" y1=\"482.251\" x2=\"516.523\" y2=\"423.011\" stroke-linecap=\"round\" style=\"stroke:rgb(197,67,26);stroke-width:4\"/><line x1=\"516.523\" y1=\"423.011\" x2=\"530.387\" y2=\"421.063\" stroke-linecap=\"round\" style=\"stroke:rgb(118,192,55);stroke-width:4\"/><line x1=\"530.387\" y1=\"421.063\" x2=\"527.93\" y2=\"419.342\" stroke-linecap=\"round\" style=\"stroke:rgb(114,156,193);stroke-width:4\"/><line x1=\"527.93\" y1=\"419.342\" x2=\"559.482\" y2=\"442.266\" stroke-linecap=\"round\" style=\"stroke:rgb(5,140,132);stroke-width:4\"/><line x1=\"559.482\" y1=\"442.266\" x2=\"584.839\" y2=\"387.888\" stroke-linecap=\"round\" style=\"stroke:rgb(165,27,184);stroke-width:4\"/><line x1=\"584.839\" y1=\"387.888\" x2=\"584.839\" y2=\"473.888\" stroke-linecap=\"round\" style=\"stroke:rgb(186,178,229);stroke-width:4\"/><line x1=\"584.839\" y1=\"473.888\" x2=\"588.496\" y2=\"477.298\" stroke-linecap=\"round\" style=\"stroke:rgb(18,97,183);stroke-width:4\"/><line x1=\"588.496\" y1=\"477.298\" x2=\"607.564\" y2=\"490.159\" stroke-linecap=\"round\" style=\"stroke:rgb(240,212,183);stroke-width:4\"/><line x1=\"607.564\" y1=\"490.159\" x2=\"595.691\" y2=\"497.578\" stroke-linecap=\"round\" style=\"stroke:rgb(161,9,248);stroke-width:4\"/><line x1=\"595.691\" y1=\"497.578\" x2=\"547.622\" y2=\"535.133\" stroke-linecap=\"round\" style=\"stroke:rgb(149,140,200);stroke-width:4\"/><line x1=\"547.622\" y1=\"535.133\" x2=\"582.391\" y2=\"522.478\" stroke-linecap=\"round\" style=\"stroke:rgb(163,93,101);stroke-width:4\"/><line x1=\"582.391\" y1=\"522.478\" x2=\"579.006\" y2=\"619.419\" stroke-linecap=\"round\" style=\"stroke:rgb(143,52,210);stroke-width:4\"/><line x1=\"400\" y1=\"300\" x2=\"369.31\" y2=\"267.089\" stroke-linecap=\"round\" style=\"stroke:rgb(212,114,8);stroke-width:4\"/><line x1=\"369.31\" y1=\"267.089\" x2=\"378.34\" y2=\"318.299\" stroke-linecap=\"round\" style=\"stroke:rgb(180,247,93);stroke-width:4\"/><line x1=\"378.34\" y1=\"318.299\" x2=\"353.065\" y2=\"283.511\" stroke-linecap=\"round\" style=\"stroke:rgb(87,57,79);stroke-width:4\"/><line x1=\"353.065\" y1=\"283.511\" x2=\"415.659\" y2=\"256.941\" stroke-linecap=\"round\" style=\"stroke:rgb(191,143,59);stroke-width:4\"/><line x1=\"415.659\" y1=\"256.941\" x2=\"399.174\" y2=\"213.996\" stroke-linecap=\"round\" style=\"stroke:rgb(66,36,58);stroke-width:4\"/><line x1=\"399.174\" y1=\"213.996\" x2=\"353.859\" y2=\"192.865\" stroke-linecap=\"round\" style=\"stroke:rgb(85,244,131);stroke-width:4\"/><line x1=\"353.859\" y1=\"192.865\" x2=\"355.322\" y2=\"194.229\" stroke-linecap=\"round\" style=\"stroke:rgb(74,145,158);stroke-width:4\"/><line x1=\"355.322\" y1=\"194.229\" x2=\"350.926\" y2=\"110.344\" stroke-linecap=\"round\" style=\"stroke:rgb(191,83,72);stroke-width:4\"/><line x1=\"350.926\" y1=\"110.344\" x2=\"374.859\" y2=\"100.185\" stroke-linecap=\"round\" style=\"stroke:rgb(138,174,69);stroke-width:4\"/><line x1=\"374.859\" y1=\"100.185\" x2=\"449.402\" y2=\"152.38\" stroke-linecap=\"round\" style=\"stroke:rgb(228,229,27);stroke-width:4\"/><line x1=\"449.402\" y1=\"152.38\" x2=\"454.639\" y2=\"134.116\" stroke-linecap=\"round\" style=\"stroke:rgb(114,129,3);stroke-width:4\"/><line x1=\"454.639\" y1=\"134.116\" x2=\"430.931\" y2=\"229.205\" stroke-linecap=\"round\" style=\"stroke:rgb(64,126,215);stroke-width:4\"/><line x1=\"430.931\" y1=\"229.205\" x2=\"391.549\" y2=\"175.001\" stroke-linecap=\"round\" style=\"stroke:rgb(132,16,76);stroke-width:4\"/><line x1=\"391.549\" y1=\"175.001\" x2=\"381.305\" y2=\"77.538\" stroke-linecap=\"round\" style=\"stroke:rgb(99,38,144);stroke-width:4\"/><line x1=\"381.305\" y1=\"77.538\" x2=\"317.875\" y2=\"39.425\" stroke-linecap=\"round\" style=\"stroke:rgb(110,7,122);stroke-width:4\"/><line x1=\"317.875\" y1=\"39.425\" x2=\"276.035\" y2=\"35.764\" stroke-linecap=\"round\" style=\"stroke:rgb(209,64,118);stroke-width:4\"/><line x1=\"276.035\" y1=\"35.764\" x2=\"259.182\" y2=\"21.623\" stroke-linecap=\"round\" style=\"stroke:rgb(211,215,41);stroke-width:4\"/><line x1=\"259.182\" y1=\"21.623\" x2=\"263.871\" y2=\"-4.967\" stroke-linecap=\"round\" style=\"stroke:rgb(233,88,210);stroke-width:4\"/><line x1=\"400\" y1=\"300\" x2=\"369.471\" y2=\"305.383\" stroke-linecap=\"round\" style=\"stroke:rgb(95,109,191);stroke-width:4\"/><line x1=\"369.471\" y1=\"305.383\" x2=\"356.174\" y2=\"389.337\" stroke-linecap=\"round\" style=\"stroke:rgb(239,115,202);stroke-width:4\"/><line x1=\"356.174\" y1=\"389.337\" x2=\"407.778\" y2=\"325.611\" stroke-linecap=\"round\" style=\"stroke:rgb(228,204,31);stroke-width:4\"/><line x1=\"407.778\" y1=\"325.611\" x2=\"422.788\" y2=\"317.63\" stroke-linecap=\"round\" style=\"stroke:rgb(253,253,249);stroke-width:4\"/><line x1=\"422.788\" y1=\"317.63\" x2=\"452.514\" y2=\"290.865\" stroke-linecap=\"round\" style=\"stroke:rgb(205,181,253);stroke-width:4\"/><line x1=\"452.514\" y1=\"290.865\" x2=\"424.702\" y2=\"205.27\" stroke-linecap=\"round\" style=\"stroke:rgb(71,66,236);stroke-width:4\"/><line x1=\"424.702\" y1=\"205.27\" x2=\"406.822\" y2=\"289.391\" stroke-linecap=\"round\" style=\"stroke:rgb(72,101,90);stroke-width:4\"/><line x1=\"406.822\" y1=\"289.391\" x2=\"357.613\" y2=\"216.436\" stroke-linecap=\"round\" style=\"stroke:rgb(138,174,128);stroke-width:4\"/><line x1=\"357.613\" y1=\"216.436\" x2=\"400.113\" y2=\"290.048\" stroke-linecap=\"round\" style=\"stroke:rgb(188,170,253);stroke-width:4\"/><line x1=\"400.113\" y1=\"290.048\" x2=\"487.813\" y2=\"251.001\" stroke-linecap=\"round\" style=\"stroke:rgb(90,151,55);stroke-width:4\"/><line x1=\"487.813\" y1=\"251.001\" x2=\"481.026\" y2=\"238.756\" stroke-linecap=\"round\" style=\"stroke:rgb(171,83,36);stroke-width:4\"/><line x1=\"481.026\" y1=\"238.756\" x2=\"466.811\" y2=\"195.007\" stroke-linecap=\"round\" style=\"stroke:rgb(7,106,5);stroke-width:4\"/><line x1=\"466.811\" y1=\"195.007\" x2=\"475.728\" y2=\"138.709\" stroke-linecap=\"round\" style=\"stroke:rgb(194,156,44);stroke-width:4\"/><line x1=\"475.728\" y1=\"138.709\" x2=\"412.561\" y2=\"195.585\" stroke-linecap=\"round\" style=\"stroke:rgb(240,159,177);stroke-width:4\"/><line x1=\"412.561\" y1=\"195.585\" x2=\"398.986\" y2=\"171.096\" stroke-linecap=\"round\" style=\"stroke:rgb(62,80,33);stroke-width:4\"/><line x1=\"398.986\" y1=\"171.096\" x2=\"399.422\" y2=\"166.115\" stroke-linecap=\"round\" style=\"stroke:rgb(9,59,10);stroke-width:4\"/><line x1=\"399.422\" y1=\"166.115\" x2=\"395.13\" y2=\"84.227\" stroke-linecap=\"round\" style=\"stroke:rgb(42,243,142);stroke-width:4\"/><line x1=\"395.13\" y1=\"84.227\" x2=\"365.562\" y2=\"48.989\" stroke-linecap=\"round\" style=\"stroke:rgb(106,183,80);stroke-width:4\"/><line x1=\"365.562\" y1=\"48.989\" x2=\"404.577\" y2=\"-31.004\" stroke-linecap=\"round\" style=\"stroke:rgb(101,42,168);stroke-width:4\"/><line x1=\"400\" y1=\"300\" x2=\"389.393\" y2=\"310.607\" stroke-linecap=\"round\" style=\"stroke:rgb(73,229,56);stroke-width:4\"/><line x1=\"389.393\" y1=\"310.607\" x2=\"432.411\" y2=\"249.171\" stroke-linecap=\"round\" style=\"stroke:rgb(221,184,104);stroke-width:4\"/><line x1=\"432.411\" y1=\"249.171\" x2=\"369.495\" y2=\"279.857\" stroke-linecap=\"round\" style=\"stroke:rgb(133,215,79);stroke-width:4\"/><line x1=\"369.495\" y1=\"279.857\" x2=\"374.743\" y2=\"276.948\" stroke-linecap=\"round\" style=\"stroke:rgb(73,178,67);stroke-width:4\"/><line x1=\"374.743\" y1=\"276.948\" x2=\"336.253\" y2=\"243.489\" stroke-linecap=\"round\" style=\"stroke:rgb(106,250,97);stroke-width:4\"/><line x1=\"336.253\" y1=\"243.489\" x2=\"275.831\" y2=\"171.481\" stroke-linecap=\"round\" style=\"stroke:rgb(238,209,223);stroke-width:4\"/><line x1=\"275.831\" y1=\"171.481\" x2=\"200.095\" y2=\"210.07\" stroke-linecap=\"round\" style=\"stroke:rgb(212,18,22);stroke-width:4\"/><line x1=\"200.095\" y1=\"210.07\" x2=\"109.538\" y2=\"244.832\" stroke-linecap=\"round\" style=\"stroke:rgb(139,42,87);stroke-width:4\"/><line x1=\"109.538\" y1=\"244.832\" x2=\"175.861\" y2=\"200.097\" stroke-linecap=\"round\" style=\"stroke:rgb(54,89,239);stroke-width:4\"/><line x1=\"175.861\" y1=\"200.097\" x2=\"148.049\" y2=\"153.81\" stroke-linecap=\"round\" style=\"stroke:rgb(134,27,108);stroke-width:4\"/><line x1=\"148.049\" y1=\"153.81\" x2=\"158.656\" y2=\"143.203\" stroke-linecap=\"round\" style=\"stroke:rgb(248,48,117);stroke-width:4\"/><line x1=\"158.656\" y1=\"143.203\" x2=\"247.666\" y2=\"179.165\" stroke-linecap=\"round\" style=\"stroke:rgb(162,234,110);stroke-width:4\"/><line x1=\"247.666\" y1=\"179.165\" x2=\"203.227\" y2=\"194.467\" stroke-linecap=\"round\" style=\"stroke:rgb(86,203,49);stroke-width:4\"/><line x1=\"203.227\" y1=\"194.467\" x2=\"241.363\" y2=\"168.744\" stroke-linecap=\"round\" style=\"stroke:rgb(159,218,87);stroke-width:4\"/><line x1=\"241.363\" y1=\"168.744\" x2=\"307.647\" y2=\"143.3\" stroke-linecap=\"round\" style=\"stroke:rgb(59,61,241);stroke-width:4\"/><line x1=\"307.647\" y1=\"143.3\" x2=\"310.636\" y2=\"143.039\" stroke-linecap=\"round\" style=\"stroke:rgb(198,206,60);stroke-width:4\"/><line x1=\"310.636\" y1=\"143.039\" x2=\"357.393\" y2=\"188.192\" stroke-linecap=\"round\" style=\"stroke:rgb(97,118,125);stroke-width:4\"/><line x1=\"357.393\" y1=\"188.192\" x2=\"281.962\" y2=\"142.869\" stroke-linecap=\"round\" style=\"stroke:rgb(152,41,111);stroke-width:4\"/><line x1=\"281.962\" y1=\"142.869\" x2=\"280.653\" y2=\"217.858\" stroke-linecap=\"round\" style=\"stroke:rgb(33,231,252);stroke-width:4\"/><line x1=\"280.653\" y1=\"217.858\" x2=\"280.653\" y2=\"134.858\" stroke-linecap=\"round\" style=\"stroke:rgb(33,54,32);stroke-width:4\"/><line x1=\"280.653\" y1=\"134.858\" x2=\"290.796\" y2=\"156.609\" stroke-linecap=\"round\" style=\"stroke:rgb(120,88,117);stroke-width:4\"/><line x1=\"290.796\" y1=\"156.609\" x2=\"282.511\" y2=\"153.092\" stroke-linecap=\"round\" style=\"stroke:rgb(124,127,217);stroke-width:4\"/><line x1=\"282.511\" y1=\"153.092\" x2=\"310.518\" y2=\"142.341\" stroke-linecap=\"round\" style=\"stroke:rgb(154,66,218);stroke-width:4\"/><line x1=\"310.518\" y1=\"142.341\" x2=\"272.905\" y2=\"61.68\" stroke-linecap=\"round\" style=\"stroke:rgb(81,99,141);stroke-width:4\"/><line x1=\"272.905\" y1=\"61.68\" x2=\"264.57\" y2=\"108.951\" stroke-linecap=\"round\" style=\"stroke:rgb(109,62,12);stroke-width:4\"/><line x1=\"264.57\" y1=\"108.951\" x2=\"277.225\" y2=\"74.182\" stroke-linecap=\"round\" style=\"stroke:rgb(234,157,154);stroke-width:4\"/><line x1=\"277.225\" y1=\"74.182\" x2=\"290.845\" y2=\"100.912\" stroke-linecap=\"round\" style=\"stroke:rgb(31,42,172);stroke-width:4\"/><line x1=\"290.845\" y1=\"100.912\" x2=\"265.976\" y2=\"80.774\" stroke-linecap=\"round\" style=\"stroke:rgb(224,190,211);stroke-width:4\"/><line x1=\"265.976\" y1=\"80.774\" x2=\"267.233\" y2=\"152.763\" stroke-linecap=\"round\" style=\"stroke:rgb(201,15,8);stroke-width:4\"/><line x1=\"267.233\" y1=\"152.763\" x2=\"267.634\" y2=\"129.767\" stroke-linecap=\"round\" style=\"stroke:rgb(63,31,64);stroke-width:4\"/><line x1=\"267.634\" y1=\"129.767\" x2=\"264.007\" y2=\"77.894\" stroke-linecap=\"round\" style=\"stroke:rgb(112,97,221);stroke-width:4\"/><line x1=\"264.007\" y1=\"77.894\" x2=\"339.648\" y2=\"51.849\" stroke-linecap=\"round\" style=\"stroke:rgb(2,66,9);stroke-width:4\"/><line x1=\"339.648\" y1=\"51.849\" x2=\"420.16\" y2=\"104.134\" stroke-linecap=\"round\" style=\"stroke:rgb(46,148,219);stroke-width:4\"/><line x1=\"420.16\" y1=\"104.134\" x2=\"354.2\" y2=\"106.437\" stroke-linecap=\"round\" style=\"stroke:rgb(183,22,118);stroke-width:4\"/><line x1=\"354.2\" y1=\"106.437\" x2=\"361.712\" y2=\"92.31\" stroke-linecap=\"round\" style=\"stroke:rgb(255,165,219);stroke-width:4\"/><line x1=\"361.712\" y1=\"92.31\" x2=\"429.546\" y2=\"87.567\" stroke-linecap=\"round\" style=\"stroke:rgb(182,70,49);stroke-width:4\"/><line x1=\"429.546\" y1=\"87.567\" x2=\"526.413\" y2=\"82.49\" stroke-linecap=\"round\" style=\"stroke:rgb(186,208,60);stroke-width:4\"/><line x1=\"526.413\" y1=\"82.49\" x2=\"519.786\" y2=\"177.259\" stroke-linecap=\"round\" style=\"stroke:rgb(27,45,176);stroke-width:4\"/><line x1=\"519.786\" y1=\"177.259\" x2=\"459.907\" y2=\"188.898\" stroke-linecap=\"round\" style=\"stroke:rgb(123,131,34);stroke-width:4\"/><line x1=\"459.907\" y1=\"188.898\" x2=\"434.466\" y2=\"204.796\" stroke-linecap=\"round\" style=\"stroke:rgb(114,190,91);stroke-width:4\"/><line x1=\"434.466\" y1=\"204.796\" x2=\"382.859\" y2=\"240.931\" stroke-linecap=\"round\" style=\"stroke:rgb(31,157,238);stroke-width:4\"/><line x1=\"382.859\" y1=\"240.931\" x2=\"299.862\" y2=\"285.061\" stroke-linecap=\"round\" style=\"stroke:rgb(163,15,1);stroke-width:4\"/><line x1=\"299.862\" y1=\"285.061\" x2=\"334.219\" y2=\"278.383\" stroke-linecap=\"round\" style=\"stroke:rgb(187,42,189);stroke-width:4\"/><line x1=\"334.219\" y1=\"278.383\" x2=\"321.858\" y2=\"271.81\" stroke-linecap=\"round\" style=\"stroke:rgb(116,26,30);stroke-width:4\"/><line x1=\"321.858\" y1=\"271.81\" x2=\"346.729\" y2=\"255.034\" stroke-linecap=\"round\" style=\"stroke:rgb(39,132,146);stroke-width:4\"/><line x1=\"346.729\" y1=\"255.034\" x2=\"370.476\" y2=\"274.96\" stroke-linecap=\"round\" style=\"stroke:rgb(148,79,226);stroke-width:4\"/><line x1=\"370.476\" y1=\"274.96\" x2=\"278.298\" y2=\"297.943\" stroke-linecap=\"round\" style=\"stroke:rgb(30,11,144);stroke-width:4\"/><line x1=\"278.298\" y1=\"297.943\" x2=\"288.363\" y2=\"283.02\" stroke-linecap=\"round\" style=\"stroke:rgb(255,173,71);stroke-width:4\"/><line x1=\"288.363\" y1=\"283.02\" x2=\"324.748\" y2=\"357.62\" stroke-linecap=\"round\" style=\"stroke:rgb(245,179,253);stroke-width:4\"/><line x1=\"324.748\" y1=\"357.62\" x2=\"305.402\" y2=\"441.416\" stroke-linecap=\"round\" style=\"stroke:rgb(234,94,247);stroke-width:4\"/><line x1=\"305.402\" y1=\"441.416\" x2=\"302.429\" y2=\"438.739\" stroke-linecap=\"round\" style=\"stroke:rgb(101,231,36);stroke-width:4\"/><line x1=\"302.429\" y1=\"438.739\" x2=\"301.242\" y2=\"404.76\" stroke-linecap=\"round\" style=\"stroke:rgb(7,28,61);stroke-width:4\"/><line x1=\"301.242\" y1=\"404.76\" x2=\"300.022\" y2=\"407.501\" stroke-linecap=\"round\" style=\"stroke:rgb(155,20,227);stroke-width:4\"/><line x1=\"300.022\" y1=\"407.501\" x2=\"269.151\" y2=\"468.089\" stroke-linecap=\"round\" style=\"stroke:rgb(195,254,219);stroke-width:4\"/><line x1=\"269.151\" y1=\"468.089\" x2=\"330.374\" y2=\"507.848\" stroke-linecap=\"round\" style=\"stroke:rgb(168,6,105);stroke-width:4\"/><line x1=\"330.374\" y1=\"507.848\" x2=\"323.485\" y2=\"518.873\" stroke-linecap=\"round\" style=\"stroke:rgb(105,176,107);stroke-width:4\"/><line x1=\"323.485\" y1=\"518.873\" x2=\"327.672\" y2=\"598.763\" stroke-linecap=\"round\" style=\"stroke:rgb(56,34,187);stroke-width:4\"/><line x1=\"327.672\" y1=\"598.763\" x2=\"274.11\" y2=\"618.258\" stroke-linecap=\"round\" style=\"stroke:rgb(27,124,97);stroke-width:4\"/>\n",
              "        <g visibility=visible transform=\"rotate(250,400,300) translate(382, 282)\">\n",
              "<path style=\" stroke:none;fill-rule:evenodd;fill:rgb(224,3,202);fill-opacity:1;\" d=\"M 18.214844 0.632812 C 16.109375 1.800781 15.011719 4.074219 15.074219 7.132812 L 15.085938 7.652344 L 14.785156 7.496094 C 13.476562 6.824219 11.957031 6.671875 10.40625 7.066406 C 8.46875 7.550781 6.515625 9.15625 4.394531 11.992188 C 3.0625 13.777344 2.679688 14.636719 3.042969 15.027344 L 3.15625 15.152344 L 3.519531 15.152344 C 4.238281 15.152344 4.828125 14.886719 8.1875 13.039062 C 9.386719 12.378906 10.371094 11.839844 10.378906 11.839844 C 10.386719 11.839844 10.355469 11.929688 10.304688 12.035156 C 9.832031 13.09375 9.257812 14.820312 8.96875 16.078125 C 7.914062 20.652344 8.617188 24.53125 11.070312 27.660156 C 11.351562 28.015625 11.363281 27.914062 10.972656 28.382812 C 8.925781 30.84375 7.945312 33.28125 8.238281 35.1875 C 8.289062 35.527344 8.28125 35.523438 8.917969 35.523438 C 10.941406 35.523438 13.074219 34.207031 15.136719 31.6875 C 15.359375 31.417969 15.328125 31.425781 15.5625 31.574219 C 16.292969 32.042969 18.023438 32.964844 18.175781 32.964844 C 18.335938 32.964844 19.941406 32.210938 20.828125 31.71875 C 20.996094 31.625 21.136719 31.554688 21.136719 31.558594 C 21.203125 31.664062 21.898438 32.414062 22.222656 32.730469 C 23.835938 34.300781 25.5625 35.132812 27.582031 35.300781 C 27.90625 35.328125 27.9375 35.308594 28.007812 34.984375 C 28.382812 33.242188 27.625 30.925781 25.863281 28.425781 L 25.542969 27.96875 L 25.699219 27.785156 C 28.945312 23.960938 29.132812 18.699219 26.257812 11.96875 L 26.207031 11.84375 L 27.945312 12.703125 C 31.53125 14.476562 32.316406 14.800781 33.03125 14.800781 C 33.976562 14.800781 33.78125 13.9375 32.472656 12.292969 C 28.519531 7.355469 25.394531 5.925781 21.921875 7.472656 L 21.558594 7.636719 L 21.578125 7.542969 C 21.699219 6.992188 21.761719 5.742188 21.699219 5.164062 C 21.496094 3.296875 20.664062 1.964844 19.003906 0.855469 C 18.480469 0.503906 18.457031 0.5 18.214844 0.632812\"/>\n",
              "</g>\n",
              "      </svg>\n",
              "    "
            ]
          },
          "metadata": {}
        }
      ]
    },
    {
      "cell_type": "markdown",
      "source": [
        "문제 3. 비트 연산 활용"
      ],
      "metadata": {
        "id": "VlxNYAFlDIL_"
      }
    },
    {
      "cell_type": "code",
      "source": [
        "print(10 & 7)  # 0010 == 1010 & 0111\n",
        "print(123 & 456)\n",
        "print(0xFFFF & 0x0000)  # 1111 1111 1111 1111 & 0000 0000 0000 0000"
      ],
      "metadata": {
        "colab": {
          "base_uri": "https://localhost:8080/"
        },
        "id": "BsTJ3gn1Fo74",
        "outputId": "2bb4a634-2fac-4fec-99e1-8060b53ff38d"
      },
      "execution_count": null,
      "outputs": [
        {
          "output_type": "stream",
          "name": "stdout",
          "text": [
            "2\n",
            "72\n",
            "0\n"
          ]
        }
      ]
    },
    {
      "cell_type": "code",
      "metadata": {
        "id": "Pw3DADcDAPUv",
        "colab": {
          "base_uri": "https://localhost:8080/"
        },
        "outputId": "37900660-695b-49e4-a88b-cbdc3d2a9654"
      },
      "source": [
        "a = 100\n",
        "result = 0\n",
        "i = 0\n",
        "\n",
        "for i in range(1, 5) :\n",
        "    result = a << i\n",
        "    print(\"%d << %d = %d\" % (a, i, result))\n",
        "\n",
        "for i in range(1, 5) :\n",
        "    result = a >> i\n",
        "    print(\"%d >> %d = %d\" % (a, i, result))\n"
      ],
      "execution_count": null,
      "outputs": [
        {
          "output_type": "stream",
          "name": "stdout",
          "text": [
            "100 << 1 = 200\n",
            "100 << 2 = 400\n",
            "100 << 3 = 800\n",
            "100 << 4 = 1600\n",
            "100 >> 1 = 50\n",
            "100 >> 2 = 25\n",
            "100 >> 3 = 12\n",
            "100 >> 4 = 6\n"
          ]
        }
      ]
    },
    {
      "cell_type": "markdown",
      "source": [
        "문제 4. 연산자 우선순위 이해하기"
      ],
      "metadata": {
        "id": "HHHMNONPLrwr"
      }
    },
    {
      "cell_type": "code",
      "source": [
        "result = 2 + 3 * 4 ** 2 - 8 // 3 % 2\n",
        "print(f\"2 + 3 * 4 ** 2 - 8 // 3 % 2 = {result}\")\n",
        "\n",
        "# 단계별 계산 과정 보기\n",
        "print(f\"4 ** 2 = {4 ** 2}\")\n",
        "print(f\"3 * 16 = {3 * 16}\")\n",
        "print(f\"8 // 3 = {8 // 3}\")\n",
        "print(f\"2 % 2 = {2 % 2}\")\n",
        "print(f\"2 + 48 - 0 = {2 + 48 - 0}\")"
      ],
      "metadata": {
        "colab": {
          "base_uri": "https://localhost:8080/"
        },
        "id": "Bao4NOmqLv9Z",
        "outputId": "e456cc12-ee68-4ae4-80b3-8a1a32a484e1"
      },
      "execution_count": null,
      "outputs": [
        {
          "output_type": "stream",
          "name": "stdout",
          "text": [
            "2 + 3 * 4 ** 2 - 8 // 3 % 2 = 50\n",
            "4 ** 2 = 16\n",
            "3 * 16 = 48\n",
            "8 // 3 = 2\n",
            "2 % 2 = 0\n",
            "2 + 48 - 0 = 50\n"
          ]
        }
      ]
    },
    {
      "cell_type": "markdown",
      "source": [
        "문제 5. 관계 연산자 활용"
      ],
      "metadata": {
        "id": "jJVLAEK2MUeK"
      }
    },
    {
      "cell_type": "code",
      "source": [
        "num1 = float(input(\"첫 번째 숫자: \"))\n",
        "num2 = float(input(\"두 번째 숫자: \"))\n",
        "num3 = float(input(\"세 번째 숫자: \"))\n",
        "\n",
        "# 관계 연산자만 사용하여 가장 큰 숫자 찾기\n",
        "if num1 >= num2 and num1 >= num3:\n",
        "    largest = num1\n",
        "elif num2 >= num1 and num2 >= num3:\n",
        "    largest = num2\n",
        "else:\n",
        "    largest = num3\n",
        "\n",
        "print(f\"가장 큰 숫자는 {largest}입니다.\")\n"
      ],
      "metadata": {
        "colab": {
          "base_uri": "https://localhost:8080/"
        },
        "id": "Ua4jo26iMV_0",
        "outputId": "5642cd54-1ab0-4364-ed25-64719cbb691c"
      },
      "execution_count": null,
      "outputs": [
        {
          "output_type": "stream",
          "name": "stdout",
          "text": [
            "첫 번째 숫자: 1\n",
            "두 번째 숫자: 3.3\n",
            "세 번째 숫자: 10\n",
            "가장 큰 숫자는 10.0입니다.\n"
          ]
        }
      ]
    },
    {
      "cell_type": "markdown",
      "metadata": {
        "id": "iohoQnjuxBvA"
      },
      "source": [
        "# 실습 과제"
      ]
    },
    {
      "cell_type": "markdown",
      "source": [
        "실습 문제 1. 두 정수 a와 b에 대해 모든 비트 연산(AND, OR, XOR, NOT, 왼쪽 시프트, 오른쪽 시프트)의 결과를 출력하는 프로그램을 작성하세요."
      ],
      "metadata": {
        "id": "rhMUXzHgM1KO"
      }
    },
    {
      "cell_type": "code",
      "source": [
        "a = int(input(\"첫 번째 정수: \"))\n",
        "b = int(input(\"두 번째 정수: \"))\n",
        "\n",
        "# 코드 작성 부분\n",
        "\n",
        "print(a & b)\n",
        "print(a | b)\n",
        "print(a ^ b)\n",
        "print(~ a)\n",
        "print(~ b)\n",
        "print(a << b)\n",
        "print(a >> b)"
      ],
      "metadata": {
        "id": "-vT4w_yHM4AQ",
        "colab": {
          "base_uri": "https://localhost:8080/"
        },
        "outputId": "7812343d-281a-4a41-ee40-a3495809a77a"
      },
      "execution_count": null,
      "outputs": [
        {
          "output_type": "stream",
          "name": "stdout",
          "text": [
            "첫 번째 정수: 3\n",
            "두 번째 정수: 1\n",
            "1\n",
            "3\n",
            "2\n",
            "-4\n",
            "-2\n",
            "6\n",
            "1\n"
          ]
        }
      ]
    },
    {
      "cell_type": "markdown",
      "source": [
        "실습 문제 2. 1부터 10까지의 합을 구하는 프로그램을 복합 대입 연산자(+=)를 사용하여 작성하세요.\n"
      ],
      "metadata": {
        "id": "g9k7aOeaNBUL"
      }
    },
    {
      "cell_type": "code",
      "source": [
        "from re import I\n",
        "# 코드 작성 부분\n",
        "\n",
        "a = 0\n",
        "\n",
        "for i in range(11) :\n",
        "    a += i\n",
        "print(a)"
      ],
      "metadata": {
        "id": "fc3NOprbNH-0",
        "colab": {
          "base_uri": "https://localhost:8080/"
        },
        "outputId": "b05514cb-f4ad-44e1-f70a-e05ba91969d1"
      },
      "execution_count": null,
      "outputs": [
        {
          "output_type": "stream",
          "name": "stdout",
          "text": [
            "55\n"
          ]
        }
      ]
    },
    {
      "cell_type": "markdown",
      "source": [
        "실습 문제 3. 괄호를 사용하여 연산 순서를 변경한 아래의 수식들의 결과를 출력하는 프로그램을 작성하세요.\n",
        "- 4 + 5 * 2 ** 3 / 4\n",
        "- 4 + 5 * (2 ** 3) / 4\n",
        "- 4 + 5 * 2 ** (3 / 4)\n",
        "- 4 + (5 * 2 ** 3) / 4\n",
        "- 4 + (5 * 2) ** 3 / 4"
      ],
      "metadata": {
        "id": "Bwa_j53-NT6m"
      }
    },
    {
      "cell_type": "code",
      "source": [
        "# 원래 수식\n",
        "original = 4 + 5 * 2 ** 3 / 4\n",
        "print(f\"4 + 5 * 2 ** 3 / 4 = {original}\")\n",
        "\n",
        "# 코드 작성 부분: 괄호를 사용하여 연산 순서 변경\n",
        "\n",
        "print(f\"4 + 5 * 2 ** 3 / 4 = {original}\")\n",
        "print(f\"4 + 5 * (2 ** 3) / 4 = {original}\")\n",
        "print(f\"4 + 5 * 2 ** (3 / 4) = {original}\")\n",
        "print(f\"4 + (5 * 2 ** 3) / 4 = {original}\")\n",
        "print(f\"4 + (5 * 2) ** 3 / 4 = {original}\")"
      ],
      "metadata": {
        "colab": {
          "base_uri": "https://localhost:8080/"
        },
        "id": "NGL3omQlNVbc",
        "outputId": "9a2bf53e-5daf-4c06-d058-03a90fe614c3"
      },
      "execution_count": null,
      "outputs": [
        {
          "output_type": "stream",
          "name": "stdout",
          "text": [
            "4 + 5 * 2 ** 3 / 4 = 14.0\n",
            "4 + 5 * 2 ** 3 / 4 = 14.0\n",
            "4 + 5 * (2 ** 3) / 4 = 14.0\n",
            "4 + 5 * 2 ** (3 / 4) = 14.0\n",
            "4 + (5 * 2 ** 3) / 4 = 14.0\n",
            "4 + (5 * 2) ** 3 / 4 = 14.0\n"
          ]
        }
      ]
    },
    {
      "cell_type": "code",
      "source": [],
      "metadata": {
        "id": "9B3teldkNYCw"
      },
      "execution_count": null,
      "outputs": []
    }
  ]
}